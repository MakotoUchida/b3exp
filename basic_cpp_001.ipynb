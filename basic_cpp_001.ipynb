{
 "cells": [
  {
   "cell_type": "markdown",
   "metadata": {},
   "source": [
    "# C++最低限必要な知識"
   ]
  },
  {
   "cell_type": "markdown",
   "metadata": {},
   "source": [
    "ROOTではC++言語を使って操作を記述する。  \n",
    "普通のC++ではコンパイル作業が必要になるがROOTはC++のインタープリターとして機能するので\n",
    "コンパイルの必要はない。  \n",
    "ROOTの端末にC++の規則に則ってコードを入力していく、もしくはソースコードを準備してROOTで実行する。  \n",
    "以下でC++でコードを書いていく上で最低限必要な項目を記述する。\n"
   ]
  },
  {
   "cell_type": "markdown",
   "metadata": {},
   "source": [
    "### 変数\n",
    "C++では型を指定して変数を宣言する  \n",
    "セミコロン(;)は一文の終了を表す。  \n",
    "初期値は与えなくても良いが、宣言時に設定することが好ましい。"
   ]
  },
  {
   "cell_type": "code",
   "execution_count": 1,
   "metadata": {
    "collapsed": false
   },
   "outputs": [],
   "source": [
    "int a = 1; // 整数型\n",
    "float u = 10.0; // ４バイトの浮動少数点\n",
    "double v = 1.0e5; // 8バイトの浮動小数点\n",
    "char c = 'c'; //文字型\n",
    "bool b = true; // boolean型, trueまたはfalseが使われ、おもに条件文で使われる\n",
    "std::string str = \"test\"; // 文字列"
   ]
  },
  {
   "cell_type": "markdown",
   "metadata": {},
   "source": [
    "変数の出力は最初にstd::cout、最後にstd::endlと記述すれば良い。  \n",
    "変数の間に<<を挟むこと。\n"
   ]
  },
  {
   "cell_type": "code",
   "execution_count": 2,
   "metadata": {
    "collapsed": false
   },
   "outputs": [
    {
     "name": "stdout",
     "output_type": "stream",
     "text": [
      "a 1\n",
      "u 10\n",
      "v 100000\n",
      "str test\n"
     ]
    }
   ],
   "source": [
    "std::cout << \"a \" << a << std::endl;\n",
    "std::cout << \"u \"  << u << std::endl;\n",
    "std::cout << \"v \" << v << std::endl;\n",
    "std::cout << \"str \" << str << std::endl;"
   ]
  },
  {
   "cell_type": "markdown",
   "metadata": {},
   "source": [
    "変数は代入、四則演算などが可能。  \n",
    "詳しくは...\n"
   ]
  },
  {
   "cell_type": "code",
   "execution_count": 3,
   "metadata": {
    "collapsed": false
   },
   "outputs": [
    {
     "name": "stdout",
     "output_type": "stream",
     "text": [
      "2 2 4 0 4 1\n"
     ]
    }
   ],
   "source": [
    "int i1=2;\n",
    "int i2 = i1; //代入\n",
    "int i3 = i1+i2; //加算\n",
    "int i4 = i1-i2; //減算\n",
    "int i5  = i1*i2; //乗算\n",
    "int i6 = i1/i2; //除算\n",
    "std::cout << i1 << \" \" << i2 << \" \" << i3 << \" \" << i4 << \" \" << i5 << \" \" << i6 << std::endl;"
   ]
  },
  {
   "cell_type": "markdown",
   "metadata": {},
   "source": [
    "インクリメント/デクリメント操作 (変数+1 or -1)"
   ]
  },
  {
   "cell_type": "code",
   "execution_count": 4,
   "metadata": {
    "collapsed": false
   },
   "outputs": [
    {
     "name": "stdout",
     "output_type": "stream",
     "text": [
      "3 1\n"
     ]
    }
   ],
   "source": [
    "++i1; // インクリメント\n",
    "--i2; // デクリメント\n",
    "std::cout << i1 << \" \" << i2 << std::endl;\n",
    "\n"
   ]
  },
  {
   "cell_type": "markdown",
   "metadata": {},
   "source": [
    "### 配列\n",
    "配列とは変数の集合のこと。  \n",
    "要素のデータ型(整数、浮動小数etc...)と要素数は[]の中に指定する。"
   ]
  },
  {
   "cell_type": "code",
   "execution_count": 5,
   "metadata": {
    "collapsed": false
   },
   "outputs": [],
   "source": [
    "int ar1[10]; // 要素数１０の整数型配列\n",
    "double ar2[3] = {1.0,2.5,3.14159}; // 要素数3の浮動小数点型配列,初期化をすることも可能。"
   ]
  },
  {
   "cell_type": "markdown",
   "metadata": {},
   "source": [
    "各要素には[]の中にインデックスを指定することでアクセスできる。  \n",
    "0スタートなのでi番目にアクセスしたいとすると[]内はi-1を指定しないといけないことに注意する。"
   ]
  },
  {
   "cell_type": "code",
   "execution_count": 7,
   "metadata": {
    "collapsed": false
   },
   "outputs": [
    {
     "name": "stdout",
     "output_type": "stream",
     "text": [
      "3.14159\n"
     ]
    }
   ],
   "source": [
    "std::cout << ar2[2] << std::endl; // 3番目の要素を出力"
   ]
  },
  {
   "cell_type": "markdown",
   "metadata": {},
   "source": [
    "### 繰り返し\n",
    "繰り返し操作にはfor文またはwhile文を使う。  "
   ]
  },
  {
   "cell_type": "code",
   "execution_count": 7,
   "metadata": {
    "collapsed": false
   },
   "outputs": [
    {
     "name": "stdout",
     "output_type": "stream",
     "text": [
      "0\n",
      "1\n",
      "2\n",
      "3\n",
      "4\n",
      "5\n",
      "6\n",
      "7\n",
      "8\n",
      "9\n"
     ]
    }
   ],
   "source": [
    "for(int i = 0; i<10;++i) // 0 - 9までの数を1づつ増やしながら出力する\n",
    "{\n",
    "    std::cout << i << std::endl;\n",
    "}\n"
   ]
  },
  {
   "cell_type": "markdown",
   "metadata": {},
   "source": [
    "上で定義した配列の要素を表示したい場合は次のようにすれば良い\n",
    "\n"
   ]
  },
  {
   "cell_type": "code",
   "execution_count": 8,
   "metadata": {
    "collapsed": false
   },
   "outputs": [
    {
     "name": "stdout",
     "output_type": "stream",
     "text": [
      "1\n",
      "2.5\n",
      "3.14159\n"
     ]
    }
   ],
   "source": [
    "for(int i = 0; i<3;++i)\n",
    "{\n",
    "    std::cout << ar2[i] << std::endl;\n",
    "}"
   ]
  },
  {
   "cell_type": "markdown",
   "metadata": {},
   "source": [
    "### 条件、制御\n",
    "\n",
    "if, elseなどを使う。\n",
    "具体的な構造は \n",
    "\n",
    "```\n",
    "if (条件文) {\n",
    "  条件文がtrueの時の処理\n",
    "} else {\n",
    "　それ以外の時の処理\n",
    "}\n",
    "```\n",
    "実例は以下の通り"
   ]
  },
  {
   "cell_type": "code",
   "execution_count": 9,
   "metadata": {
    "collapsed": false
   },
   "outputs": [
    {
     "name": "stdout",
     "output_type": "stream",
     "text": [
      "b is true\n"
     ]
    }
   ],
   "source": [
    "if (b == true){\n",
    "    std::cout << \"b is true\" << std::endl;\n",
    "} else {\n",
    "    std::cout << \"b is false\" << std::endl;\n",
    "}"
   ]
  },
  {
   "cell_type": "markdown",
   "metadata": {},
   "source": [
    "繰り返しの途中で条件にあった時だけ処理などの操作が行えるようになる。"
   ]
  },
  {
   "cell_type": "code",
   "execution_count": 9,
   "metadata": {
    "collapsed": false
   },
   "outputs": [
    {
     "name": "stdout",
     "output_type": "stream",
     "text": [
      "0\n",
      "1\n",
      "2\n",
      "3\n",
      "4\n",
      "5\n",
      "end of loop\n"
     ]
    }
   ],
   "source": [
    "for(int i = 0; i<10;++i) \n",
    "{\n",
    "    std::cout << i << std::endl;\n",
    "    if(i == 5){\n",
    "        break; //ループを抜ける\n",
    "    } else {\n",
    "        continue; //繰り返しを続ける\n",
    "    }\n",
    "    \n",
    "}\n",
    "std::cout << \"end of loop\" << std::endl;\n"
   ]
  },
  {
   "cell_type": "markdown",
   "metadata": {
    "collapsed": true
   },
   "source": [
    "### 関数\n",
    "頻繁に使うルーチンは関数化することでコードを簡潔にすることができる。  \n",
    "関数を定義する際には外部から関数に与える変数(引数と呼ぶ)、関数で処理して外部に戻ってくる値(戻り値)が必要となる。  \n",
    "引数と戻り値に型を設定する。\n"
   ]
  },
  {
   "cell_type": "code",
   "execution_count": 11,
   "metadata": {
    "collapsed": false
   },
   "outputs": [],
   "source": [
    "int sum(int a, int b) // 引数a,bを加算する関数\n",
    "{\n",
    "    int c = a+b;\n",
    "    return c;\n",
    "}"
   ]
  },
  {
   "cell_type": "markdown",
   "metadata": {},
   "source": [
    "実際に使うと以下の通り"
   ]
  },
  {
   "cell_type": "code",
   "execution_count": 12,
   "metadata": {
    "collapsed": false
   },
   "outputs": [
    {
     "name": "stdout",
     "output_type": "stream",
     "text": [
      "sum of a1, a2 : 3\n"
     ]
    }
   ],
   "source": [
    "int a1 = 1;\n",
    "int a2 = 2;\n",
    "int a3 = sum(a1,a2);\n",
    "std::cout << \"sum of a1, a2 : \" << a3 << std::endl;"
   ]
  },
  {
   "cell_type": "markdown",
   "metadata": {
    "collapsed": true
   },
   "source": [
    "### クラス\n"
   ]
  },
  {
   "cell_type": "code",
   "execution_count": null,
   "metadata": {
    "collapsed": true
   },
   "outputs": [],
   "source": []
  },
  {
   "cell_type": "code",
   "execution_count": null,
   "metadata": {
    "collapsed": true
   },
   "outputs": [],
   "source": []
  }
 ],
 "metadata": {
  "kernelspec": {
   "display_name": "ROOT C++",
   "language": "c++",
   "name": "root"
  },
  "language_info": {
   "codemirror_mode": "text/x-c++src",
   "file_extension": ".C",
   "mimetype": " text/x-c++src",
   "name": "c++"
  }
 },
 "nbformat": 4,
 "nbformat_minor": 2
}

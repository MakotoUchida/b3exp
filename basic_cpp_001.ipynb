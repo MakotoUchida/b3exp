{
 "cells": [
  {
   "cell_type": "markdown",
   "metadata": {},
   "source": [
    "# C++の基本"
   ]
  },
  {
   "cell_type": "markdown",
   "metadata": {},
   "source": [
    "ROOTではC++言語を使って操作を記述することになる。\n",
    "\n",
    "普通のC++ではコンパイル作業が必要になるがROOTはC++のインタープリターとして機能するので\n",
    "コンパイルの必要はない。\n",
    "\n",
    "ROOTの端末にC++の規則に則ってコードを入力していく、もしくはソースコードを準備してROOTで実行する。"
   ]
  },
  {
   "cell_type": "markdown",
   "metadata": {},
   "source": [
    "変数宣言\n",
    "C++では型を指定して変数を宣言する"
   ]
  },
  {
   "cell_type": "code",
   "execution_count": 1,
   "metadata": {
    "collapsed": false
   },
   "outputs": [],
   "source": [
    "int a = 1; // 整数型\n",
    "float u = 10.0; // ４バイトの浮動少数点\n",
    "double v = 1.0e5; // 8バイトの浮動小数点\n",
    "std::string str = \"test\"; // 文字列"
   ]
  },
  {
   "cell_type": "markdown",
   "metadata": {},
   "source": [
    "変数の出力"
   ]
  },
  {
   "cell_type": "code",
   "execution_count": 2,
   "metadata": {
    "collapsed": false
   },
   "outputs": [
    {
     "name": "stdout",
     "output_type": "stream",
     "text": [
      "a 1\n",
      "u 10\n",
      "v 100000\n",
      "str test\n"
     ]
    }
   ],
   "source": [
    "std::cout << \"a \" << a << std::endl;\n",
    "std::cout << \"u \"  << u << std::endl;\n",
    "std::cout << \"v \" << v << std::endl;\n",
    "std::cout << \"str \" << str << std::endl;"
   ]
  },
  {
   "cell_type": "markdown",
   "metadata": {},
   "source": [
    "配列の定義"
   ]
  },
  {
   "cell_type": "code",
   "execution_count": 3,
   "metadata": {
    "collapsed": true
   },
   "outputs": [],
   "source": [
    "int ar[3] = {1,2,3}; // 要素数3の整数型配列,初期化はどちらでもよい"
   ]
  },
  {
   "cell_type": "markdown",
   "metadata": {},
   "source": [
    "ベクターの定義、ベクターとは要素数をあらかじめ決めておかない配列のようなもの。\n",
    "配列の場合は宣言時に要素数は固定される。"
   ]
  },
  {
   "cell_type": "code",
   "execution_count": 4,
   "metadata": {
    "collapsed": true
   },
   "outputs": [],
   "source": [
    "std::vector <double> vec = {}; // 浮動小数点型のベクトルの定義"
   ]
  },
  {
   "cell_type": "markdown",
   "metadata": {},
   "source": [
    "繰り返しなどの操作はfor文, while文などを使う。"
   ]
  },
  {
   "cell_type": "code",
   "execution_count": 6,
   "metadata": {
    "collapsed": false
   },
   "outputs": [
    {
     "name": "stdout",
     "output_type": "stream",
     "text": [
      "0\n",
      "1\n",
      "2\n",
      "3\n",
      "4\n",
      "5\n",
      "6\n",
      "7\n",
      "8\n",
      "9\n"
     ]
    }
   ],
   "source": [
    "for(int i = 0; i<10;++i) // 0 - 9までの数を出力する\n",
    "{\n",
    "    std::cout << i << std::endl;\n",
    "}\n"
   ]
  },
  {
   "cell_type": "code",
   "execution_count": 7,
   "metadata": {
    "collapsed": false
   },
   "outputs": [
    {
     "name": "stdout",
     "output_type": "stream",
     "text": [
      "1\n",
      "2\n",
      "3\n"
     ]
    }
   ],
   "source": [
    "for(int i = 0; i <3;++i) // 上で定義した配列arrayの要素を出力\n",
    "{\n",
    "    std::cout << ar[i] << std::endl;\n",
    "}"
   ]
  },
  {
   "cell_type": "code",
   "execution_count": null,
   "metadata": {
    "collapsed": true
   },
   "outputs": [],
   "source": []
  }
 ],
 "metadata": {
  "kernelspec": {
   "display_name": "ROOT C++",
   "language": "c++",
   "name": "root"
  },
  "language_info": {
   "codemirror_mode": "text/x-c++src",
   "file_extension": ".C",
   "mimetype": " text/x-c++src",
   "name": "c++"
  }
 },
 "nbformat": 4,
 "nbformat_minor": 2
}

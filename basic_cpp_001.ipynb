{
 "cells": [
  {
   "cell_type": "markdown",
   "metadata": {},
   "source": [
    "# C++の基本"
   ]
  },
  {
   "cell_type": "markdown",
   "metadata": {},
   "source": [
    "ROOTではC++言語を使って操作を記述することになる。\n",
    "\n",
    "普通のC++ではコンパイル作業が必要になるがROOTはC++のインタープリターとして機能するので\n",
    "コンパイルの必要はない。\n",
    "\n",
    "ROOTの端末にC++の規則に則ってコードを入力していく、もしくはソースコードを準備してROOTで実行する。"
   ]
  },
  {
   "cell_type": "markdown",
   "metadata": {},
   "source": [
    "### 変数宣言\n",
    "C++では型を指定して変数を宣言する  \n",
    "セミコロン(;)は一文の終了を表す。  \n",
    "初期値は与えなくても良いが、宣言時に設定することが好ましい。"
   ]
  },
  {
   "cell_type": "code",
   "execution_count": 1,
   "metadata": {
    "collapsed": false
   },
   "outputs": [],
   "source": [
    "int a = 1; // 整数型\n",
    "float u = 10.0; // ４バイトの浮動少数点\n",
    "double v = 1.0e5; // 8バイトの浮動小数点\n",
    "char c = 'c'; //文字型\n",
    "bool b = true; // boolean型, trueまたはfalseが使われ、おもに条件文で使われる\n",
    "std::string str = \"test\"; // 文字列"
   ]
  },
  {
   "cell_type": "markdown",
   "metadata": {},
   "source": [
    "変数の出力は最初にstd::cout、最後にstd::endlと記述すれば良い。  \n",
    "変数の間に<<を挟むこと。\n"
   ]
  },
  {
   "cell_type": "code",
   "execution_count": 2,
   "metadata": {
    "collapsed": false
   },
   "outputs": [
    {
     "name": "stdout",
     "output_type": "stream",
     "text": [
      "a 1\n",
      "u 10\n",
      "v 100000\n",
      "str test\n"
     ]
    }
   ],
   "source": [
    "std::cout << \"a \" << a << std::endl;\n",
    "std::cout << \"u \"  << u << std::endl;\n",
    "std::cout << \"v \" << v << std::endl;\n",
    "std::cout << \"str \" << str << std::endl;"
   ]
  },
  {
   "cell_type": "markdown",
   "metadata": {},
   "source": [
    "### 配列の定義"
   ]
  },
  {
   "cell_type": "code",
   "execution_count": 3,
   "metadata": {
    "collapsed": true
   },
   "outputs": [],
   "source": [
    "int ar1[10]; // 要素数１０の整数型配列\n",
    "double ar2[3] = {1.0,2.5,3.14159}; // 要素数3の浮動小数点型配列,初期化をすることも可能。"
   ]
  },
  {
   "cell_type": "markdown",
   "metadata": {},
   "source": [
    "### ベクターの定義\n",
    "ベクターとは要素数をあらかじめ決めておかない配列のようなもの。\n",
    "配列の場合は宣言時に要素数は固定される。"
   ]
  },
  {
   "cell_type": "code",
   "execution_count": 4,
   "metadata": {
    "collapsed": true
   },
   "outputs": [],
   "source": [
    "std::vector <double> vec = {}; // 浮動小数点型のベクトルの定義"
   ]
  },
  {
   "cell_type": "markdown",
   "metadata": {},
   "source": [
    "### 繰り返し"
   ]
  },
  {
   "cell_type": "code",
   "execution_count": 5,
   "metadata": {
    "collapsed": false
   },
   "outputs": [
    {
     "name": "stdout",
     "output_type": "stream",
     "text": [
      "0\n",
      "1\n",
      "2\n",
      "3\n",
      "4\n",
      "5\n",
      "6\n",
      "7\n",
      "8\n",
      "9\n"
     ]
    }
   ],
   "source": [
    "for(int i = 0; i<10;++i) // 0 - 9までの数を出力する\n",
    "{\n",
    "    std::cout << i << std::endl;\n",
    "}\n"
   ]
  },
  {
   "cell_type": "markdown",
   "metadata": {
    "collapsed": true
   },
   "source": [
    "### 関数\n",
    "頻繁に使うルーチンは関数化することでコードを簡潔にすることができる。  \n"
   ]
  },
  {
   "cell_type": "code",
   "execution_count": 6,
   "metadata": {
    "collapsed": true
   },
   "outputs": [],
   "source": [
    "int sum(int a, int b) // 引数a,bを加算する関数\n",
    "{\n",
    "    return a+b;\n",
    "}"
   ]
  },
  {
   "cell_type": "markdown",
   "metadata": {},
   "source": [
    "実際に使うと以下の通り"
   ]
  },
  {
   "cell_type": "code",
   "execution_count": 7,
   "metadata": {
    "collapsed": false
   },
   "outputs": [
    {
     "name": "stdout",
     "output_type": "stream",
     "text": [
      "sum of a1, a2 : 3\n"
     ]
    }
   ],
   "source": [
    "int a1 = 1;\n",
    "int a2 = 2;\n",
    "int a3 = sum(a1,a2);\n",
    "std::cout << \"sum of a1, a2 : \" << a3 << std::endl;"
   ]
  },
  {
   "cell_type": "code",
   "execution_count": null,
   "metadata": {
    "collapsed": true
   },
   "outputs": [],
   "source": []
  }
 ],
 "metadata": {
  "kernelspec": {
   "display_name": "ROOT C++",
   "language": "c++",
   "name": "root"
  },
  "language_info": {
   "codemirror_mode": "text/x-c++src",
   "file_extension": ".C",
   "mimetype": " text/x-c++src",
   "name": "c++"
  }
 },
 "nbformat": 4,
 "nbformat_minor": 2
}

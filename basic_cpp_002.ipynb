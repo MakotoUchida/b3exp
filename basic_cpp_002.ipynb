{
 "cells": [
  {
   "cell_type": "markdown",
   "metadata": {},
   "source": [
    "# 標準ライブラリ\n",
    "標準ライブラリには有用なコンテナや繰り返しを効率よく行うためのクラスが準備されている。  \n",
    "以下でその中でも特に使用頻度が高いと思われるクラスを紹介する。"
   ]
  },
  {
   "cell_type": "markdown",
   "metadata": {},
   "source": [
    "### vectorクラス\n",
    "\n",
    "ベクターとは要素数をあらかじめ決めておかない配列のようなもの。 \n",
    "一方、配列の場合は宣言時に要素数は固定される。"
   ]
  },
  {
   "cell_type": "code",
   "execution_count": 1,
   "metadata": {
    "collapsed": false
   },
   "outputs": [],
   "source": [
    "std::vector <int> vec = {}; // 整数型ベクトルの定義"
   ]
  },
  {
   "cell_type": "markdown",
   "metadata": {},
   "source": [
    "要素を(最後尾に)追加するにはpush_back()関数を用いる"
   ]
  },
  {
   "cell_type": "code",
   "execution_count": 2,
   "metadata": {
    "collapsed": true
   },
   "outputs": [],
   "source": [
    "vec.push_back(1); // 1を追加\n",
    "vec.push_back(2); // 2を追加\n",
    "vec.push_back(3); // 3を追加\n",
    "vec.push_back(4); // 4を追加"
   ]
  },
  {
   "cell_type": "markdown",
   "metadata": {},
   "source": [
    "各要素へのアクセスは配列の場合と同様`[]`内でindexを指定する。"
   ]
  },
  {
   "cell_type": "code",
   "execution_count": 3,
   "metadata": {
    "collapsed": false
   },
   "outputs": [
    {
     "name": "stdout",
     "output_type": "stream",
     "text": [
      "1 2\n"
     ]
    }
   ],
   "source": [
    "std::cout << vec[0] << \" \" << vec[1] << std::endl; //１番目と２番目の要素を出力"
   ]
  },
  {
   "cell_type": "markdown",
   "metadata": {},
   "source": [
    "繰り返しは配列の場合と同様にインデックスを指定して行うことができる。"
   ]
  },
  {
   "cell_type": "code",
   "execution_count": 4,
   "metadata": {
    "collapsed": false
   },
   "outputs": [
    {
     "name": "stdout",
     "output_type": "stream",
     "text": [
      "1\n",
      "2\n",
      "3\n",
      "4\n"
     ]
    }
   ],
   "source": [
    "for(int i = 0;i<vec.size();++i)\n",
    "{\n",
    "    std::cout << vec[i] << std::endl;\n",
    "}"
   ]
  },
  {
   "cell_type": "code",
   "execution_count": null,
   "metadata": {
    "collapsed": true
   },
   "outputs": [],
   "source": []
  }
 ],
 "metadata": {
  "kernelspec": {
   "display_name": "ROOT C++",
   "language": "c++",
   "name": "root"
  },
  "language_info": {
   "codemirror_mode": "text/x-c++src",
   "file_extension": ".C",
   "mimetype": " text/x-c++src",
   "name": "c++"
  }
 },
 "nbformat": 4,
 "nbformat_minor": 2
}

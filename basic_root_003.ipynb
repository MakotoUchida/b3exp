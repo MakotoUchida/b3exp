{
 "cells": [
  {
   "cell_type": "code",
   "execution_count": 1,
   "metadata": {
    "collapsed": true
   },
   "outputs": [],
   "source": [
    "#include <TGraph.h>\n",
    "#include <string>\n",
    "#include <fstream>\n",
    "#include <TH1D.h>\n",
    "#include <TMath.h>\n",
    "#include <TH2D.h>\n",
    "#include <TCanvas.h>\n",
    "\n",
    "void ruth()\n",
    "{\n",
    "  std::vector<double> theta = {};\n",
    "  std::vector<double> cs  = {};\n",
    "  std::vector<double> cs2  = {};\n",
    "  double rad2deg = 180.0/M_PI;\n",
    "  double E = 4.1;\n",
    "  double E2 = 1.5;\n",
    "  double z = 2.0;\n",
    "  double Z = 13.0;\n",
    "  double hbarc = 197.3;\n",
    "  double alpha = 1.0/137.0;\n",
    "  double e2 = hbarc*alpha;\n",
    "  for(int i =1 ; i < 5000;++i){\n",
    "    double q = i*(0.5*M_PI)/100;\n",
    "    double c = TMath::Power((z*Z*e2/4.0/E),2.0)*1.0/TMath::Power(TMath::Sin(0.5*q),4);\n",
    "    double c2 = TMath::Power((z*Z*e2/4.0/E2),2.0)*1.0/TMath::Power(TMath::Sin(0.5*q),4);\n",
    "    theta.push_back(q*rad2deg);\n",
    "    cs.push_back(c);    \n",
    "    cs2.push_back(c2);\n",
    "  }\n",
    "\n",
    "  auto *gr = new TGraph(theta.size(), &theta[0], &cs[0]);\n",
    "  auto *gr2 = new TGraph(theta.size(), &theta[0], &cs2[0]);\n",
    "\n",
    "  auto *h2 = new TH2D(\"h2\",\";#theta [deg]; d#sigma/d#Omega [fm^{2}]\",100,0,90,100,10.0,1.0e8);\n",
    "  auto *can = new TCanvas(\"can\",\"\",600,600);\n",
    "  can->SetLogy();\n",
    "  h2->Draw();\n",
    "  gr->SetLineColor(kMagenta);\n",
    "  gr->SetLineWidth(2);\n",
    "  gr->Draw(\"L\");\n",
    "  gr2->Draw(\"L\");\n",
    "  auto *leg = new TLegend(0.6, 0.68, 0.9, 0.85, \"\", \"NDC\");\n",
    "  leg->AddEntry(gr, \"E = 4.1 MeV\",\"l\");\n",
    "  leg->AddEntry(gr2, \"E = 1.5 MeV\",\"l\");\n",
    "  leg->SetBorderSize(0);\n",
    "  leg->Draw();\n",
    "  can->Draw();\n",
    "}"
   ]
  },
  {
   "cell_type": "code",
   "execution_count": 2,
   "metadata": {
    "collapsed": false
   },
   "outputs": [
    {
     "data": {
      "image/png": "[encoded data removed]",
      "text/plain": [
       "<IPython.core.display.Image object>"
      ]
     },
     "metadata": {},
     "output_type": "display_data"
    }
   ],
   "source": [
    "gStyle->SetOptStat(0);\n",
    "ruth()"
   ]
  },
  {
   "cell_type": "code",
   "execution_count": null,
   "metadata": {
    "collapsed": true
   },
   "outputs": [],
   "source": []
  }
 ],
 "metadata": {
  "kernelspec": {
   "display_name": "ROOT C++",
   "language": "c++",
   "name": "root"
  },
  "language_info": {
   "codemirror_mode": "text/x-c++src",
   "file_extension": ".C",
   "mimetype": " text/x-c++src",
   "name": "c++"
  }
 },
 "nbformat": 4,
 "nbformat_minor": 2
}

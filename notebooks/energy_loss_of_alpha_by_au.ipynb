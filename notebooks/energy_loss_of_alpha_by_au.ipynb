{
 "cells": [
  {
   "cell_type": "markdown",
   "metadata": {},
   "source": [
    "# アルファ線源、金薄膜コーティングによるエネルギーロス"
   ]
  },
  {
   "cell_type": "code",
   "execution_count": 1,
   "metadata": {
    "collapsed": false
   },
   "outputs": [],
   "source": [
    "import numpy as np\n",
    "import matplotlib.pyplot as plt\n",
    "import matplotlib\n",
    "import math"
   ]
  },
  {
   "cell_type": "markdown",
   "metadata": {
    "collapsed": true
   },
   "source": [
    "金薄膜2$\\mu$m(アルファ線源のコーティングがこのくらいみたい)で5.5MeVの$\\alpha$粒子がどのくらいエネルギーロスをするかをも積もる。"
   ]
  },
  {
   "cell_type": "code",
   "execution_count": 2,
   "metadata": {
    "collapsed": true
   },
   "outputs": [],
   "source": [
    "me = 0.5109989461\n",
    "K = 0.307075 # MeV mol-1 cm^2\n",
    "\n",
    "mu = 931.4940954\n",
    "\n",
    "Z = 79 # Au\n",
    "A = 197 # Au\n",
    "I = 9.225554e-6*Z# Au ionization (MeV)\n",
    "rho = 19.32\n",
    "dx = 2.0e-4 # 2 um -> cm"
   ]
  },
  {
   "cell_type": "code",
   "execution_count": 3,
   "metadata": {
    "collapsed": true
   },
   "outputs": [],
   "source": [
    "z = 2 # アルファ線は電荷２\n",
    "Ka = 5.578 # 241Amからのアルファ線は85%がこの崩壊\n",
    "ma = 4.0*mu\n",
    "Ea = Ka+ma\n"
   ]
  },
  {
   "cell_type": "code",
   "execution_count": 5,
   "metadata": {
    "collapsed": false
   },
   "outputs": [
    {
     "name": "stdout",
     "output_type": "stream",
     "text": [
      "0.05473897792600798\n"
     ]
    }
   ],
   "source": [
    "b = math.sqrt(Ea**2-ma**2)/Ea # beta\n",
    "g = 1/math.sqrt(1-b**2) # gamma\n",
    "print(b*g)"
   ]
  },
  {
   "cell_type": "code",
   "execution_count": 6,
   "metadata": {
    "collapsed": true
   },
   "outputs": [],
   "source": [
    "def Wmax(beta,gamma, M):\n",
    "    return 2*me*beta**2*gamma**2/(1+2*gamma*me/M+(me/M)**2)\n"
   ]
  },
  {
   "cell_type": "code",
   "execution_count": 7,
   "metadata": {
    "collapsed": true
   },
   "outputs": [],
   "source": [
    "def bethe(eta):\n",
    "    beta = eta/math.sqrt(1+eta**2)\n",
    "    gamma = math.sqrt(1+eta**2)\n",
    "    return K*(z**2)*(Z/A)*(1.0/beta**2)*(0.5*math.log(2.0*me*eta**2*Wmax(beta, gamma, A*mu)/I**2)-beta**2)\n",
    "    # return K*(z**2)*(Z/A)*(1.0/beta**2)*(0.5*math.log(2.0*me*eta**2*Wmax(beta, gamma, A*mu)/I**2))\n",
    "Bethe = np.vectorize(bethe)\n",
    "\n"
   ]
  },
  {
   "cell_type": "code",
   "execution_count": 9,
   "metadata": {
    "collapsed": false
   },
   "outputs": [
    {
     "data": {
      "text/plain": [
       "0.9126450482499863"
      ]
     },
     "execution_count": 9,
     "metadata": {},
     "output_type": "execute_result"
    }
   ],
   "source": [
    "bethe(b*g)*rho*dx"
   ]
  },
  {
   "cell_type": "markdown",
   "metadata": {},
   "source": [
    "$\\sim 0.9$ MeVのエネルギーロス"
   ]
  }
 ],
 "metadata": {
  "kernelspec": {
   "display_name": "Python 3",
   "language": "python",
   "name": "python3"
  },
  "language_info": {
   "codemirror_mode": {
    "name": "ipython",
    "version": 3
   },
   "file_extension": ".py",
   "mimetype": "text/x-python",
   "name": "python",
   "nbconvert_exporter": "python",
   "pygments_lexer": "ipython3",
   "version": "3.6.0"
  }
 },
 "nbformat": 4,
 "nbformat_minor": 2
}

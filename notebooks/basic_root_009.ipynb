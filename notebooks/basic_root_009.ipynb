{
 "cells": [
  {
   "cell_type": "markdown",
   "metadata": {},
   "source": [
    "# 微分断面積のグラフ作成"
   ]
  },
  {
   "cell_type": "markdown",
   "metadata": {},
   "source": [
    "テキストファイルとして微分断面積のデータを用意する。  \n",
    "データフォーマットは以下の通り  \n",
    "角度　微分断面積　角度誤差　微分断面積の誤差  \n",
    "以下の例では\"Au.dat\"がデータファイル  \n",
    "ruMakeGraphErrors()という関数で誤差棒付きのグラフを生成することができる。"
   ]
  },
  {
   "cell_type": "code",
   "execution_count": 2,
   "metadata": {
    "collapsed": false
   },
   "outputs": [
    {
     "name": "stdout",
     "output_type": "stream",
     "text": [
      "(TGraphErrors *) 0x7fe857bc9700\n"
     ]
    }
   ],
   "source": [
    "auto gre = ruMakeGraphErrors(\"Au.dat\")"
   ]
  },
  {
   "cell_type": "markdown",
   "metadata": {},
   "source": [
    "キャンパスを作成"
   ]
  },
  {
   "cell_type": "code",
   "execution_count": 3,
   "metadata": {
    "collapsed": false
   },
   "outputs": [
    {
     "name": "stdout",
     "output_type": "stream",
     "text": [
      "(TCanvas *) 0x7fe85835b500\n"
     ]
    }
   ],
   "source": [
    "auto c = new TCanvas(\"c\",\"\",600,600)"
   ]
  },
  {
   "cell_type": "markdown",
   "metadata": {},
   "source": [
    "背景となるヒストグラムを作成しておく"
   ]
  },
  {
   "cell_type": "code",
   "execution_count": 4,
   "metadata": {
    "collapsed": false
   },
   "outputs": [
    {
     "name": "stdout",
     "output_type": "stream",
     "text": [
      "(TH2D *) 0x7fe854650200\n"
     ]
    }
   ],
   "source": [
    "auto h2 = new TH2D(\"h2\",\"\",60,0,60,100,100,1e10)"
   ]
  },
  {
   "cell_type": "markdown",
   "metadata": {},
   "source": [
    "背景となるからのヒストグラムの上に誤差付きのグラフをプロットする。"
   ]
  },
  {
   "cell_type": "code",
   "execution_count": 23,
   "metadata": {
    "collapsed": false
   },
   "outputs": [
    {
     "data": {
      "image/png": "[encoded data removed]",
      "text/plain": [
       "<IPython.core.display.Image object>"
      ]
     },
     "metadata": {},
     "output_type": "display_data"
    }
   ],
   "source": [
    "h2->Draw();\n",
    "gre->Draw(\"P\");\n",
    "c->SetLogy();\n",
    "c->Draw();"
   ]
  },
  {
   "cell_type": "markdown",
   "metadata": {},
   "source": [
    "ラザフォードの公式による理論線を合わせてプロットしたい。  \n",
    "ruMakeGraph()という関数が用意されているのでこれを使用する。  \n",
    "用意すべきテキストファイルのフォーマットは以下の通り  \n",
    "角度　微分断面積  \n",
    "以下の例では\"Au_theory.dat\"がデータファイル"
   ]
  },
  {
   "cell_type": "code",
   "execution_count": 24,
   "metadata": {
    "collapsed": false
   },
   "outputs": [
    {
     "name": "stdout",
     "output_type": "stream",
     "text": [
      "(TGraph *) 0x7fe857e43f30\n"
     ]
    }
   ],
   "source": [
    "auto gr = ruMakeGraph(\"Au_theory.dat\")"
   ]
  },
  {
   "cell_type": "markdown",
   "metadata": {},
   "source": [
    "理論線も重ねてプロットする。"
   ]
  },
  {
   "cell_type": "code",
   "execution_count": 25,
   "metadata": {
    "collapsed": false
   },
   "outputs": [
    {
     "data": {
      "image/png": "[encoded data removed]",
      "text/plain": [
       "<IPython.core.display.Image object>"
      ]
     },
     "metadata": {},
     "output_type": "display_data"
    }
   ],
   "source": [
    "h2->Draw();\n",
    "gre->Draw(\"P\");\n",
    "gr->Draw(\"L\");\n",
    "c->SetLogy();\n",
    "c->Draw();"
   ]
  },
  {
   "cell_type": "markdown",
   "metadata": {},
   "source": [
    "最後に凡例を付け加えたい  \n",
    "以下のコマンドを実行する。"
   ]
  },
  {
   "cell_type": "code",
   "execution_count": 26,
   "metadata": {
    "collapsed": true
   },
   "outputs": [],
   "source": [
    "auto leg = new TLegend(0.6, 0.68, 0.9, 0.85, \"\", \"NDC\");\n",
    "leg->AddEntry(gre, \"data\",\"pe\");  // データ点、とエラーバー\n",
    "leg->AddEntry(gr, \"E = 4.1 MeV\",\"l\"); // ラインで表示\n",
    "leg->SetBorderSize(0);\n",
    "leg->Draw();"
   ]
  },
  {
   "cell_type": "code",
   "execution_count": 27,
   "metadata": {
    "collapsed": false
   },
   "outputs": [
    {
     "data": {
      "image/png": "[encoded data removed]",
      "text/plain": [
       "<IPython.core.display.Image object>"
      ]
     },
     "metadata": {},
     "output_type": "display_data"
    }
   ],
   "source": [
    "c->Draw()"
   ]
  },
  {
   "cell_type": "code",
   "execution_count": null,
   "metadata": {
    "collapsed": true
   },
   "outputs": [],
   "source": []
  }
 ],
 "metadata": {
  "kernelspec": {
   "display_name": "ROOT C++",
   "language": "c++",
   "name": "root"
  },
  "language_info": {
   "codemirror_mode": "text/x-c++src",
   "file_extension": ".C",
   "mimetype": " text/x-c++src",
   "name": "c++"
  }
 },
 "nbformat": 4,
 "nbformat_minor": 2
}

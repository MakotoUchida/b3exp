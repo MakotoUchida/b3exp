{
 "cells": [
  {
   "cell_type": "markdown",
   "metadata": {},
   "source": [
    "# ヒストグラムのスタイル編集\n",
    "作成したヒストグラムは軸のタイトルを変えるなど様々な編集を行うことができる。  \n",
    "基本はコマンドラインで行うが、編集用のグラフィカルインターフェースも用意されている。\n",
    "<img src=\"ss1.png\", width=\"500px\">"
   ]
  },
  {
   "cell_type": "markdown",
   "metadata": {},
   "source": [
    "エディタボタンを押すとヒストグラムの左側にスタイルタブが現れる。\n",
    "<img src=\"ss2.png\", width=\"500px\">"
   ]
  },
  {
   "cell_type": "markdown",
   "metadata": {},
   "source": [
    "例えばX軸のメモリあたりをクリックするとX軸に関連するスタイルをを編集できる。  \n",
    "この例ではX軸のタイトルをx variableと追加した。\n",
    "<img src=\"ss3.png\", width=\"500px\">"
   ]
  },
  {
   "cell_type": "markdown",
   "metadata": {
    "collapsed": true
   },
   "source": [
    "色々な部分をクリックすると何が変更できるか左側のタブに表示されるので試してください。"
   ]
  },
  {
   "cell_type": "markdown",
   "metadata": {
    "collapsed": true
   },
   "source": [
    "### 補足\n",
    "グラフィカルインターフェイスでのスタイル編集は表示されているヒストグラムのみに適応される。  \n",
    "同じスタイルを複数のヒストグラムに適応させる場合には効率が悪い。  \n",
    "したがって最終的にはマクロファイルにスタイル設定を書き込んでそれをすべてのヒストグラムに適用する方法が推奨される。  \n"
   ]
  },
  {
   "cell_type": "code",
   "execution_count": null,
   "metadata": {
    "collapsed": true
   },
   "outputs": [],
   "source": []
  }
 ],
 "metadata": {
  "kernelspec": {
   "display_name": "ROOT C++",
   "language": "c++",
   "name": "root"
  },
  "language_info": {
   "codemirror_mode": "text/x-c++src",
   "file_extension": ".C",
   "mimetype": " text/x-c++src",
   "name": "c++"
  }
 },
 "nbformat": 4,
 "nbformat_minor": 2
}

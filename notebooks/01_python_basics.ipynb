{
 "cells": [
  {
   "cell_type": "markdown",
   "metadata": {},
   "source": [
    "# PythonとJupyter入門\n",
    "この実習では、python言語とipython/jupyterの基本を学習します。  \n",
    "pythonプログラミング言語の解説書、チュートリアルは紙媒体のテキストやウェブチュートリアルがありますの。  \n",
    "気になった項目は各自調べてみてください。\n",
    "\n",
    "以下のチュートリアルはOliver FrostとMartin Ritter両氏のBelle2 tutorialをもとに日本語に翻訳させていただきました。  \n",
    "まず初めにjupyter環境ではセル単位でプログラムを編集実行します。  \n",
    "セルを実行するにはShift+Enterをタイプします。"
   ]
  },
  {
   "cell_type": "code",
   "execution_count": null,
   "metadata": {},
   "outputs": [],
   "source": [
    "7+4"
   ]
  },
  {
   "cell_type": "markdown",
   "metadata": {},
   "source": [
    "新しいセルを作成するには\n",
    "jupyter上部のツールバーから'+'をクリックします。\n",
    "\n",
    "<img src=\"./figures/new_cell.png\">\n",
    "または'Ctrl+m' 'b' とキーボードショートカットも使用できます。\n"
   ]
  },
  {
   "cell_type": "markdown",
   "metadata": {},
   "source": [
    "# Python\n",
    "\n",
    "Pythonは非常に人気のあるスクリプト言語です。\n",
    "Pythonの完全な紹介をする時間がないので、重要なことだけ説明していきます。  \n",
    "興味深い概念を紹介することを目的としていますが、全ての詳細を説明するつもりはありません。  \n",
    "実際に何をしているのかを理解するために、自由に入力を弄ってみてください。\n",
    "\n",
    "インターネット上にはさらに詳しいPython入門教材がありますので興味のある方は探してみてください。\n",
    "\n",
    "## インデントとコードブロック\n",
    "\n",
    "Pythonでは、コードブロックはスペースでインデントされます。スコーピングのための中括弧はなく、コードのインデントのみで行われます。これは、特に適切に設定されていないエディタでは、最初のうちは少し混乱するかもしれません。**コードブロックはタブ文字ではなく4つのスペースでインデントされるべきです**。ほとんどのエディタでは、タブを押したときに正しくインデントするように設定することができます。\n",
    "\n",
    "注意！ コードを記述する場合は半角英数字および記号を使います。 日本語は使うべきではありません。  \n",
    "日本語を使っていると全角スペースなどがソースファイルの意図していない場所に埋め込まれる可能性がありデバッグが困難になります。  \n",
    "日本語でコメントをつけたい場合にはコメント用のセルを用意してそこに記述するようにします。\n",
    "\n",
    "```py\n",
    "if a>5: \n",
    "    print(\"this is the if\")\n",
    "    print(\"and continues for\")\n",
    "    print(\"as many lines as indented\")\n",
    "      print(\"this would be an error\")\n",
    "\n",
    "print(\"this is outside the if\")\n",
    "```\n",
    "\n",
    "## インポート ステートメント\n",
    "\n",
    "Pythonはモジュール化して別々のファイルにすることができます。それぞれのファイルは「モジュール」と呼ばれます。スクリプトのディレクトリが一緒に属している場合、これを「パッケージ」と呼びます。別のファイル `myfunctions.py` で定義された関数 `func1` を使うには、次のように書きます。\n",
    "\n",
    "```py\n",
    "import myfunctions\n",
    "\n",
    "myfunctions.func1()\n",
    "```\n",
    "\n",
    "あるいは、そのファイルからいくつかのものだけを現在のスコープに直接インポートすることもできます。\n",
    "\n",
    "```py\n",
    "from myfunctions import func1, func2\n",
    "\n",
    "func1()\n",
    "```\n",
    "\n",
    "最後に、現在のスコープ内のファイルからすべてをインポートすることもできます。これは使用すべきではありませんが、つまずくことがあるかもしれません。\n",
    "```py\n",
    "from myfunctions import *\n",
    "\n",
    "func1() # where does func1 come from? No one knows ...\n",
    "```\n",
    "\n",
    "## 変数と型\n",
    "\n",
    "変数は使用前に宣言する必要がなく、型は自動的に推測されます。  \n",
    "変数は型なしで代入されます。"
   ]
  },
  {
   "cell_type": "code",
   "execution_count": null,
   "metadata": {},
   "outputs": [],
   "source": [
    "a = 5  # this is a comment\n",
    "# everything after the # is ignored\n",
    "b = 4.566\n",
    "c = \"this is a string\"\n",
    "d = True  # the opposite is False\n",
    "e = None  # None is the (safe) equivalent to a null pointer\n",
    "print(a, b, c, \"and is e None?\", e is None)\n",
    "\n",
    "# we can assign multiple values at once\n",
    "a, b = 5, 4.566\n",
    "print(a, b)\n",
    "\n",
    "# we can also compare multiple values at once\n",
    "4 <= a < 6"
   ]
  },
  {
   "cell_type": "markdown",
   "metadata": {},
   "source": [
    "大抵は変数の種類を気にする必要はありません。"
   ]
  },
  {
   "cell_type": "code",
   "execution_count": null,
   "metadata": {},
   "outputs": [],
   "source": [
    "a + b"
   ]
  },
  {
   "cell_type": "markdown",
   "metadata": {},
   "source": [
    "しかし、これは型の互換性がない場合にエラーを引き起こす可能性があります。"
   ]
  },
  {
   "cell_type": "code",
   "execution_count": null,
   "metadata": {},
   "outputs": [],
   "source": [
    "a + c"
   ]
  },
  {
   "cell_type": "markdown",
   "metadata": {},
   "source": [
    "通常の演算子に加えて、指数/パワー演算子もあります。  \n",
    "`a**b` = $a^b$  \n",
    "### 文字列"
   ]
  },
  {
   "cell_type": "code",
   "execution_count": null,
   "metadata": {},
   "outputs": [],
   "source": [
    "name = \"Belle\" # Comment: this is my name as a string"
   ]
  },
  {
   "cell_type": "code",
   "execution_count": null,
   "metadata": {},
   "outputs": [],
   "source": [
    "type(name)"
   ]
  },
  {
   "cell_type": "code",
   "execution_count": null,
   "metadata": {},
   "outputs": [],
   "source": [
    "print(name)"
   ]
  },
  {
   "cell_type": "code",
   "execution_count": null,
   "metadata": {},
   "outputs": [],
   "source": [
    "print(\"Hello\", name)"
   ]
  },
  {
   "cell_type": "code",
   "execution_count": null,
   "metadata": {},
   "outputs": [],
   "source": [
    "name.startswith(\"S\")"
   ]
  },
  {
   "cell_type": "markdown",
   "metadata": {},
   "source": [
    "文字列の連結"
   ]
  },
  {
   "cell_type": "code",
   "execution_count": null,
   "metadata": {},
   "outputs": [],
   "source": [
    "sentence = \"Hello \" + name + \".\"\n",
    "print(sentence)"
   ]
  },
  {
   "cell_type": "markdown",
   "metadata": {},
   "source": [
    "## 数値型\n",
    "### 整数\n"
   ]
  },
  {
   "cell_type": "code",
   "execution_count": null,
   "metadata": {},
   "outputs": [],
   "source": [
    "i = 6\n",
    "print(type(i))"
   ]
  },
  {
   "cell_type": "code",
   "execution_count": null,
   "metadata": {},
   "outputs": [],
   "source": [
    "print(2 + i)\n",
    "print(2 - i)\n",
    "print(2 * i)\n",
    "print(i / 2)  # ディビジョンは浮動小数点に変換\n",
    "print(i // 4) # 整数の除算は四捨五入しています。\n",
    "print(2 ** 5) # べき計算"
   ]
  },
  {
   "cell_type": "markdown",
   "metadata": {},
   "source": [
    "また、ほとんどの演算子には、インプレースのバリエーションがあります。"
   ]
  },
  {
   "cell_type": "code",
   "execution_count": null,
   "metadata": {},
   "outputs": [],
   "source": [
    "i += 1 # Increment\n",
    "print(i)\n",
    "i -= 2 # Decrement by two\n",
    "print(i)"
   ]
  },
  {
   "cell_type": "markdown",
   "metadata": {},
   "source": [
    "Python3 の整数型 (int) に最大値・最小値の制限はありません。  \n",
    "ただし計算機 (CPU またはメモリー) の能力を越える値を扱おうとすると計算処理が終わらなくなります。"
   ]
  },
  {
   "cell_type": "code",
   "execution_count": null,
   "metadata": {},
   "outputs": [],
   "source": [
    "2 ** 1000"
   ]
  },
  {
   "cell_type": "markdown",
   "metadata": {},
   "source": [
    "### 浮動小数点"
   ]
  },
  {
   "cell_type": "code",
   "execution_count": null,
   "metadata": {},
   "outputs": [],
   "source": [
    "f = 2.55\n",
    "type(f)"
   ]
  },
  {
   "cell_type": "code",
   "execution_count": null,
   "metadata": {},
   "outputs": [],
   "source": [
    "print(f + 4)\n",
    "print(f / 2)"
   ]
  },
  {
   "cell_type": "markdown",
   "metadata": {},
   "source": [
    "### モジュールの追加\n",
    "```math```モジュールを追加してみます。"
   ]
  },
  {
   "cell_type": "code",
   "execution_count": null,
   "metadata": {},
   "outputs": [],
   "source": [
    "import math"
   ]
  },
  {
   "cell_type": "markdown",
   "metadata": {},
   "source": [
    "関数の機能の調べ方、使い方など"
   ]
  },
  {
   "cell_type": "code",
   "execution_count": null,
   "metadata": {},
   "outputs": [],
   "source": [
    "help(math)"
   ]
  },
  {
   "cell_type": "code",
   "execution_count": null,
   "metadata": {},
   "outputs": [],
   "source": [
    "help(math.sin)"
   ]
  },
  {
   "cell_type": "code",
   "execution_count": null,
   "metadata": {},
   "outputs": [],
   "source": [
    "print( math.pi )"
   ]
  },
  {
   "cell_type": "code",
   "execution_count": null,
   "metadata": {},
   "outputs": [],
   "source": [
    "print( math.sin(math.pi) )"
   ]
  },
  {
   "cell_type": "markdown",
   "metadata": {},
   "source": [
    "次のように、インポート時に関数名を指定すると、モジュール名を付けずに関数を使えます。"
   ]
  },
  {
   "cell_type": "code",
   "execution_count": null,
   "metadata": {},
   "outputs": [],
   "source": [
    "from math import pi, cos, atan"
   ]
  },
  {
   "cell_type": "code",
   "execution_count": null,
   "metadata": {},
   "outputs": [],
   "source": [
    "print( cos(pi) )"
   ]
  },
  {
   "cell_type": "code",
   "execution_count": null,
   "metadata": {},
   "outputs": [],
   "source": [
    "atan(1.0) / pi"
   ]
  },
  {
   "cell_type": "markdown",
   "metadata": {},
   "source": [
    "### リスト、タプル\n",
    "\n",
    "`list()` はpythonの基本的な配列型で、複数の要素を含むことができます。"
   ]
  },
  {
   "cell_type": "code",
   "execution_count": null,
   "metadata": {},
   "outputs": [],
   "source": [
    "a = [1, 2, \"text\", 4.5]\n",
    "print(a, len(a))\n",
    "a.insert(1, 1.5)\n",
    "a.append(6)\n",
    "print(a, len(a))"
   ]
  },
  {
   "cell_type": "markdown",
   "metadata": {},
   "source": [
    "`tuple()`は基本的には同じですが、構築後に変更することができません。"
   ]
  },
  {
   "cell_type": "code",
   "execution_count": null,
   "metadata": {},
   "outputs": [],
   "source": [
    "b = (1, 2, \"text\", 4.5)\n",
    "print(b, len(b))\n",
    "\n",
    "##  please uncomment cell\n",
    "#\n",
    "# b.append(6)"
   ]
  },
  {
   "cell_type": "markdown",
   "metadata": {},
   "source": [
    "どちらのタイプも計算で使用できます。"
   ]
  },
  {
   "cell_type": "code",
   "execution_count": null,
   "metadata": {},
   "outputs": [],
   "source": [
    "[1, 2, 3] + [3, 4, 5]"
   ]
  },
  {
   "cell_type": "code",
   "execution_count": null,
   "metadata": {},
   "outputs": [],
   "source": [
    "[1, 2] * 3"
   ]
  },
  {
   "cell_type": "code",
   "execution_count": null,
   "metadata": {},
   "outputs": [],
   "source": [
    "(1, 2, 3) + (4, 5) * 6"
   ]
  },
  {
   "cell_type": "markdown",
   "metadata": {},
   "source": [
    "### 要素へのアクセス\n",
    "\n",
    "Pythonには高度な要素アクセスがあります。アクセスできるのは\n",
    "\n",
    "* 単一要素: `a[n]`。\n",
    "* 要素の範囲。要素の範囲: `a[start:end]` (インデックスの末尾が含まれない場合)\n",
    "* ストライドを持つ要素の範囲: `a[start:end:stride]`.\n",
    "* 要素のいずれかを省略することができます。a[::] == a[0:len(a):1]` ` 要素を省略することができます。\n",
    "\n",
    "負のインデックスは配列の後ろから数えます．-1 が最後の要素"
   ]
  },
  {
   "cell_type": "code",
   "execution_count": null,
   "metadata": {},
   "outputs": [],
   "source": [
    "a[1:5:2]"
   ]
  },
  {
   "cell_type": "markdown",
   "metadata": {},
   "source": [
    "### 値のセット\n",
    "\n",
    "`set()` はリストの特別な型であり、一つの値を一度だけ含むことができます。  \n",
    "オブジェクトの集合を反復せずに表現するために用いられ、和や交点のような簡単な操作を可能にします。"
   ]
  },
  {
   "cell_type": "code",
   "execution_count": null,
   "metadata": {},
   "outputs": [],
   "source": [
    "{1, 2, 3, 4} | {3, 4 ,5} # 和集合"
   ]
  },
  {
   "cell_type": "code",
   "execution_count": null,
   "metadata": {},
   "outputs": [],
   "source": [
    "{1, 2, 3, 4} & {3, 4, 5} # 積集合"
   ]
  },
  {
   "cell_type": "markdown",
   "metadata": {},
   "source": [
    "### 辞書型\n",
    "\n",
    "`dict()` は pythonにおいて重要なデータ型です。  \n",
    "キーの集合をそれぞれの値にマップします。"
   ]
  },
  {
   "cell_type": "code",
   "execution_count": null,
   "metadata": {},
   "outputs": [],
   "source": [
    "a = {0: \"zero\", \"1\": \"one\", 2.5: \"2.5\"}\n",
    "a[\"1\"]"
   ]
  },
  {
   "cell_type": "markdown",
   "metadata": {},
   "source": [
    "要素はアクセスして作成するだけでなく、dictから削除することもできます。"
   ]
  },
  {
   "cell_type": "code",
   "execution_count": null,
   "metadata": {},
   "outputs": [],
   "source": [
    "a = {}\n",
    "a[\"something\"] = [1,2,3]\n",
    "print(a)\n",
    "del a[\"something\"]\n",
    "print(a)"
   ]
  },
  {
   "cell_type": "markdown",
   "metadata": {},
   "source": [
    "### 文字列とテキストの操作\n",
    "\n",
    "文字列はシングルクォートまたはダブルクォートで作成することができます。複数行にまたがる文字列を作りたい場合は、3つの引用符で文字列を開始または終了させることができます。\n",
    "\n",
    "```py\n",
    "\"this is fine\"\n",
    "'or this'\n",
    "'''this can span\n",
    "multiple lines'''\n",
    "\"\"\"as can this but it doesn't have to\"\"\"\n",
    "```\n",
    "\n",
    "\n",
    "pythonの文字列は非常に強力です。配列のような振る舞いをしますが (`len()`, `append()`, indexing)、フォーマットのような高度な機能をたくさん持っています。"
   ]
  },
  {
   "cell_type": "code",
   "execution_count": null,
   "metadata": {},
   "outputs": [],
   "source": [
    "\"Hello {}, there can be {named} and {} arguments\".format(\"world\", \"positional\", named=\"named\")"
   ]
  },
  {
   "cell_type": "markdown",
   "metadata": {},
   "source": [
    "f-文字列はpython3.6から利用可能なフォーマットです。  \n",
    "本実習環境で利用可能です。"
   ]
  },
  {
   "cell_type": "code",
   "execution_count": null,
   "metadata": {},
   "outputs": [],
   "source": [
    "import math\n",
    "what = \"world\"\n",
    "f\"Hello {what}, pi={math.pi}\""
   ]
  },
  {
   "cell_type": "markdown",
   "metadata": {},
   "source": [
    "その他の利用可能な機能としては、`strip()`, `join()`, `split()`があります。\n",
    "\n",
    "* `strip()`, `rstrip()`, `lstrip()`は、文字列の先頭や末尾から文字を削除します。\n",
    "* `join(list)` は、与えられたリストのすべての要素を一つの大きな文字列に結合し、すべての要素は結合文字列で区切られます。\n",
    "* `split()` は文字列を要素のリストに分割します。引数を指定しないと、空白ごとに分割されます。"
   ]
  },
  {
   "cell_type": "code",
   "execution_count": null,
   "metadata": {},
   "outputs": [],
   "source": [
    "\" ... \".join([\"1\", \"2\", \"and 3\"])"
   ]
  },
  {
   "cell_type": "code",
   "execution_count": null,
   "metadata": {},
   "outputs": [],
   "source": [
    "\"1 2 3 4and5\".split()"
   ]
  },
  {
   "cell_type": "markdown",
   "metadata": {},
   "source": [
    "### 要素の存在を確認する\n",
    "\n",
    "すべてのコンテナで、要素を簡単に検索することができます。"
   ]
  },
  {
   "cell_type": "code",
   "execution_count": null,
   "metadata": {},
   "outputs": [],
   "source": [
    "a = {\"1\": 1, \"2\": 2}\n",
    "\"1\" in a"
   ]
  },
  {
   "cell_type": "markdown",
   "metadata": {},
   "source": [
    "辞書の場合は値ではなくキーの存在をチェックすることに注意しましょう。"
   ]
  },
  {
   "cell_type": "code",
   "execution_count": null,
   "metadata": {},
   "outputs": [],
   "source": [
    "\"something\" not in a"
   ]
  },
  {
   "cell_type": "code",
   "execution_count": null,
   "metadata": {},
   "outputs": [],
   "source": [
    "\"ab\" in \"abc\""
   ]
  },
  {
   "cell_type": "markdown",
   "metadata": {},
   "source": [
    "### 内包表記 (上級編)\n",
    "\n",
    "Pythonには内包表記という非常に強力な機能があります。これらが何をしているのかを理解してみてください"
   ]
  },
  {
   "cell_type": "code",
   "execution_count": null,
   "metadata": {},
   "outputs": [],
   "source": [
    "[e**2 for e in range(10) if e != 5]"
   ]
  },
  {
   "cell_type": "code",
   "execution_count": null,
   "metadata": {},
   "outputs": [],
   "source": [
    "{abs(e) for e in range(-10, 10)}"
   ]
  },
  {
   "cell_type": "code",
   "execution_count": null,
   "metadata": {},
   "outputs": [],
   "source": [
    "{e:f\"this is the value for {e}\" for e in range(4)}"
   ]
  },
  {
   "cell_type": "markdown",
   "metadata": {},
   "source": [
    "## 制御構造体\n",
    "\n",
    "すべての言語には制御構造が必要です。  \n",
    "Pythonには通常の `if`, `while`, `for` がありますが、いくつかの違いがあります。\n",
    "\n",
    "* `switch` がない: 検索には `if` を使うか辞書を使うかのどちらかです。\n",
    "* スコーピング文があります: `with`\n",
    "\n",
    "### フロー制御: `if` 文"
   ]
  },
  {
   "cell_type": "code",
   "execution_count": null,
   "metadata": {},
   "outputs": [],
   "source": [
    "if a:\n",
    "    print(\"a is True\")\n",
    "elif b:\n",
    "    print(\"b is True\")\n",
    "else:\n",
    "    print(\"neither a nor b\")"
   ]
  },
  {
   "cell_type": "markdown",
   "metadata": {},
   "source": [
    "### `while` ループ"
   ]
  },
  {
   "cell_type": "code",
   "execution_count": null,
   "metadata": {},
   "outputs": [],
   "source": [
    "a = 5\n",
    "while(a>0):\n",
    "    print(f\"Now a is {a}\")\n",
    "    #if a==1:\n",
    "    #    break  # exit loop right now\n",
    "    a -= 1\n",
    "else:\n",
    "    print(\"this is executed if the loop completes without break\")"
   ]
  },
  {
   "cell_type": "markdown",
   "metadata": {},
   "source": [
    "### `for` ループ\n",
    "\n",
    "`for` はどんな種類のコンテナでもループするのにとても便利です。"
   ]
  },
  {
   "cell_type": "code",
   "execution_count": null,
   "metadata": {},
   "outputs": [],
   "source": [
    "a = [1, 2, 3]\n",
    "for x in a:\n",
    "    print(x)\n",
    "else:\n",
    "    print(\"this is executed if the loop completes without break\")"
   ]
  },
  {
   "cell_type": "markdown",
   "metadata": {},
   "source": [
    "辞書の場合、デフォルトではキーをループしますが、`(key, value)` のペアをループすることもできます。"
   ]
  },
  {
   "cell_type": "code",
   "execution_count": null,
   "metadata": {},
   "outputs": [],
   "source": [
    "a = {1: \"one\", 2: \"two\", 3: \"three\"}\n",
    "for key, value in a.items():\n",
    "    print(f\"{key} -> {value}\")"
   ]
  },
  {
   "cell_type": "markdown",
   "metadata": {},
   "source": [
    "`for` ループでは、要素のインデックスも知りたいことがあります。  \n",
    "これは `enumerate()` で行うことができます。これは要素を返すだけでなく、任意の値から始めることができますが、デフォルトでは0から始まります。"
   ]
  },
  {
   "cell_type": "markdown",
   "metadata": {},
   "source": [
    "### スコープブロック:\n",
    "ファイルを開くときのように、ある時間だけ変数を有効にしたい場合があります。  \n",
    "これは `with` 文で行うことができ、`with`ブロックを抜けたときに当該の変数がクリーンアップされることを保証します。"
   ]
  },
  {
   "cell_type": "code",
   "execution_count": null,
   "metadata": {},
   "outputs": [],
   "source": [
    "with open(\"/dev/null\", \"w\") as file:\n",
    "    # do something, file will be closed after the block\n",
    "    file.write(\"foo\")\n",
    "\n",
    "# file is closed now"
   ]
  },
  {
   "cell_type": "markdown",
   "metadata": {},
   "source": [
    "## 関数の定義\n",
    "\n",
    "pythonの関数定義は非常にシンプルです：戻り値の型や引数の型を指定する必要はありません。"
   ]
  },
  {
   "cell_type": "code",
   "execution_count": null,
   "metadata": {},
   "outputs": [],
   "source": [
    "def functionName(argument1, argument2=\"default value\"):\n",
    "    \"\"\"\n",
    "    This string is the function documentation and can be queried, \n",
    "    for example with the `help()` function or the ? in ipython.\n",
    "    \"\"\"\n",
    "    # function body as block\n",
    "    # functions can return a value but don't have to in which the return value is None\n",
    "    return f\"functionName() called with {argument1} and {argument2}\"\n",
    "\n",
    "print(functionName(\"a\"))\n",
    "print(functionName(\"a\", \"b\"))"
   ]
  },
  {
   "cell_type": "code",
   "execution_count": null,
   "metadata": {},
   "outputs": [],
   "source": [
    "class Person:\n",
    "    def __init__(self, name):\n",
    "        \"\"\"コンストラクタ\"\"\"\n",
    "        # メンバー変数はコンストラクタ内で定義される\n",
    "        \n",
    "        #: 人の名前\n",
    "        self.name = name\n",
    "        \n",
    "    def introduce(self):\n",
    "        \"\"\"Prints a sort introduction statement about the person\"\"\"\n",
    "        print( \"Hello, I am \" + self.name + \".\")\n",
    "        \n",
    "    def __str__(self):\n",
    "        \"\"\"This gets called when the object is passed to a print statement\"\"\"\n",
    "        return self.name\n",
    "    \n",
    "    def print_name(self):\n",
    "        print(self.name,)\n",
    "\n",
    "def greet(pers):\n",
    "    print(\"Hello\", pers)"
   ]
  },
  {
   "cell_type": "code",
   "execution_count": null,
   "metadata": {},
   "outputs": [],
   "source": [
    "myperson = Person(\"Scientist\")\n",
    "myperson.introduce()\n",
    "greet(myperson)"
   ]
  },
  {
   "cell_type": "code",
   "execution_count": null,
   "metadata": {},
   "outputs": [],
   "source": []
  }
 ],
 "metadata": {
  "kernelspec": {
   "display_name": "Python 3",
   "language": "python",
   "name": "python3"
  },
  "language_info": {
   "codemirror_mode": {
    "name": "ipython",
    "version": 3
   },
   "file_extension": ".py",
   "mimetype": "text/x-python",
   "name": "python",
   "nbconvert_exporter": "python",
   "pygments_lexer": "ipython3",
   "version": "3.8.2"
  }
 },
 "nbformat": 4,
 "nbformat_minor": 4
}

{
 "cells": [
  {
   "cell_type": "markdown",
   "metadata": {},
   "source": [
    "# エラーバー付きグラフの書き方"
   ]
  },
  {
   "cell_type": "markdown",
   "metadata": {},
   "source": [
    "エラーバー付きのグラフを作成する際にはTGraphErrorsをつかう。  \n",
    "書式  \n",
    "```c++\n",
    "    new TGraphErrors(データの数、x配列, y配列, x error配列, y error配列);\n",
    "```\n",
    "詳しくは[ROOTのホームページ参照](https://root.cern.ch/doc/master/classTGraphErrors.html)\n"
   ]
  },
  {
   "cell_type": "markdown",
   "metadata": {},
   "source": [
    "[Particle Data Group](http://pdglive.lbl.gov)にまとめられている$\\Upsilon$粒子 (bクォークと反bクォークで構成される中間子)の質量と幅をグラフにしてみる。  \n",
    "必要な配列を準備"
   ]
  },
  {
   "cell_type": "code",
   "execution_count": 1,
   "metadata": {
    "collapsed": false
   },
   "outputs": [],
   "source": [
    "const int num = 4; // 配列の要素数を6に設定constはこの変数は固定であることを示す。\n",
    "double m[num] = {9460.30, 10023.26, 10355.2, 10579.4}; // 質量　(MeV)\n",
    "double w[num] = {54.02, 31.98, 20.32, 20.5}; // 幅 (keV)\n",
    "double dm[num] = {0.26, 0.31, 0.5, 1.2}; // 質量の誤差\n",
    "double dw[num] = {1.25, 2.63, 1.85, 2.5}; // 幅の誤差"
   ]
  },
  {
   "cell_type": "markdown",
   "metadata": {},
   "source": [
    "キャンバスの作成"
   ]
  },
  {
   "cell_type": "code",
   "execution_count": 2,
   "metadata": {
    "collapsed": false
   },
   "outputs": [],
   "source": [
    "auto c = new TCanvas(\"can\",\"\",400,400);"
   ]
  },
  {
   "cell_type": "markdown",
   "metadata": {},
   "source": [
    "エラー付きグラフの作成"
   ]
  },
  {
   "cell_type": "code",
   "execution_count": 3,
   "metadata": {
    "collapsed": false
   },
   "outputs": [],
   "source": [
    "auto gre = new TGraphErrors(num,m,w,dm,dw);"
   ]
  },
  {
   "cell_type": "markdown",
   "metadata": {},
   "source": [
    "作成したグラフを表示。  \n",
    "ここでオプション`A`はフレームを描く、`P`はマーカーを描く。"
   ]
  },
  {
   "cell_type": "code",
   "execution_count": 30,
   "metadata": {
    "collapsed": false
   },
   "outputs": [
    {
     "data": {
      "image/png": "[encoded data removed]",
      "text/plain": [
       "<IPython.core.display.Image object>"
      ]
     },
     "metadata": {},
     "output_type": "display_data"
    }
   ],
   "source": [
    "gre->SetMarkerStyle(8); // マーカーを○印にする\n",
    "gre->SetMarkerSize(1); // マーカーサイズを変更\n",
    "gre->SetTitle(\"mass and width of #Upsilon particle\"); //タイトル\n",
    "gre->GetXaxis()->SetTitle(\"mass [MeV]\"); // 横軸のタイトル\n",
    "gre->GetYaxis()->SetTitle(\"width [keV]\"); // 縦軸のタイトル\n",
    "gre->Draw(\"AP\"); \n",
    "c->Draw();"
   ]
  },
  {
   "cell_type": "code",
   "execution_count": null,
   "metadata": {
    "collapsed": true
   },
   "outputs": [],
   "source": []
  }
 ],
 "metadata": {
  "kernelspec": {
   "display_name": "ROOT C++",
   "language": "c++",
   "name": "root"
  },
  "language_info": {
   "codemirror_mode": "text/x-c++src",
   "file_extension": ".C",
   "mimetype": " text/x-c++src",
   "name": "c++"
  }
 },
 "nbformat": 4,
 "nbformat_minor": 2
}

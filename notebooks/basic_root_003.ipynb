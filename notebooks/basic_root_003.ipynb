{
 "cells": [
  {
   "cell_type": "markdown",
   "metadata": {},
   "source": [
    "# エラーバー付きグラフの書き方"
   ]
  },
  {
   "cell_type": "markdown",
   "metadata": {},
   "source": [
    "エラーバー付きのグラフを作成する際にはTGraphErrorsをつかう。  \n",
    "TGraphErrorsの引数はデータの数、x配列, y配列, x error配列, y error配列。  \n",
    "詳しくは[ROOTのホームページ参照](https://root.cern.ch/doc/master/classTGraphErrors.html)\n"
   ]
  },
  {
   "cell_type": "markdown",
   "metadata": {},
   "source": [
    "必要な配列を準備"
   ]
  },
  {
   "cell_type": "code",
   "execution_count": 1,
   "metadata": {
    "collapsed": false
   },
   "outputs": [],
   "source": [
    "const int num = 10; // 配列の要素数を１０に設定constはこの変数は固定であることを示す。\n",
    "double q[num]; // thetaを入れるための配列\n",
    "double sq[num]; // sin(theta)を入れるための配列\n",
    "double eq[num]; // thetaのerrorを入れるための配列\n",
    "double esq[num]; // sin(theta)のerrorを入れるための配列"
   ]
  },
  {
   "cell_type": "markdown",
   "metadata": {},
   "source": [
    "for文を使って各要素にsin関数のデータとエラーを代入していく。  \n",
    "ここで`static_cast`はデータ型の変換を意味する。つまり整数型のiを浮動小数点型に変換している。  \n",
    "`TMath::Sin()`,`TMath::Pi()`は名前空間`TMath`で定義されている`Sin()`,`Pi()`という関数を意味している。  "
   ]
  },
  {
   "cell_type": "code",
   "execution_count": 3,
   "metadata": {
    "collapsed": false
   },
   "outputs": [],
   "source": [
    "for(int i = 0; i < num;++i)\n",
    "{\n",
    "    q[i] = (static_cast<double>(i)/num)*2*TMath::Pi();\n",
    "    sq[i] = TMath::Sin(q[i]);\n",
    "    eq[i] = 0.2; // x軸のエラーは0.2に設定\n",
    "    esq[i] = fabs(gRandom->Gaus(0,3)); // y軸のエラーはガウス分布にする\n",
    "}"
   ]
  },
  {
   "cell_type": "markdown",
   "metadata": {},
   "source": [
    "キャンバスの作成"
   ]
  },
  {
   "cell_type": "code",
   "execution_count": 8,
   "metadata": {
    "collapsed": false
   },
   "outputs": [],
   "source": [
    "auto c = new TCanvas();"
   ]
  },
  {
   "cell_type": "markdown",
   "metadata": {},
   "source": [
    "エラー付きグラフの作成"
   ]
  },
  {
   "cell_type": "code",
   "execution_count": 6,
   "metadata": {
    "collapsed": false
   },
   "outputs": [],
   "source": [
    "auto gre = new TGraphErrors(num,q,sq,eq,esq);"
   ]
  },
  {
   "cell_type": "markdown",
   "metadata": {},
   "source": [
    "作成したグラフを表示。  \n",
    "ここでオプション`A`はフレームを描く、`P`はマーカーを描く。"
   ]
  },
  {
   "cell_type": "code",
   "execution_count": 9,
   "metadata": {
    "collapsed": false
   },
   "outputs": [
    {
     "data": {
      "image/png": "[encoded data removed]",
      "text/plain": [
       "<IPython.core.display.Image object>"
      ]
     },
     "metadata": {},
     "output_type": "display_data"
    }
   ],
   "source": [
    "gre->Draw(\"AP\");\n",
    "c->Draw();"
   ]
  },
  {
   "cell_type": "code",
   "execution_count": null,
   "metadata": {
    "collapsed": true
   },
   "outputs": [],
   "source": []
  }
 ],
 "metadata": {
  "kernelspec": {
   "display_name": "ROOT C++",
   "language": "c++",
   "name": "root"
  },
  "language_info": {
   "codemirror_mode": "text/x-c++src",
   "file_extension": ".C",
   "mimetype": " text/x-c++src",
   "name": "c++"
  }
 },
 "nbformat": 4,
 "nbformat_minor": 2
}

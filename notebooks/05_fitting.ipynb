{
 "cells": [
  {
   "cell_type": "code",
   "execution_count": null,
   "metadata": {},
   "outputs": [],
   "source": [
    "import numpy as np\n",
    "\n",
    "import matplotlib.pyplot as plt"
   ]
  },
  {
   "cell_type": "code",
   "execution_count": null,
   "metadata": {},
   "outputs": [],
   "source": [
    "x_sig = np.random.normal(200, 30, 5000)\n",
    "x_bg = np.random.exponential(100, 10000)\n",
    "x = np.concatenate([x_sig, x_bg], 0)"
   ]
  },
  {
   "cell_type": "code",
   "execution_count": null,
   "metadata": {},
   "outputs": [],
   "source": [
    "n, binsx = np.histogram(x, range=(0, 500), bins=500)\n",
    "binsx = (binsx[:-1]+binsx[1:])*0.5\n",
    "plt.plot(binsx, n)"
   ]
  },
  {
   "cell_type": "code",
   "execution_count": null,
   "metadata": {},
   "outputs": [],
   "source": [
    "from scipy.optimize import curve_fit\n",
    "\n",
    "\n",
    "def sig(x, a, m, s):\n",
    "    return a*np.exp(-0.5*(x-m)**2/s**2)\n",
    "\n",
    "\n",
    "def bg(x, b, beta):\n",
    "    return b*np.exp(-x/beta)\n",
    "\n",
    "\n",
    "def fun(x, a, m, s, b, beta):\n",
    "    return a*np.exp(-0.5*(x-m)**2/s**2)+b*np.exp(-x/beta)"
   ]
  },
  {
   "cell_type": "code",
   "execution_count": null,
   "metadata": {},
   "outputs": [],
   "source": [
    "x1 = binsx[(100 < binsx) & (binsx < 300)]\n",
    "y1 = n[(100 < binsx) & (binsx < 300)]\n",
    "par1, cov = curve_fit(sig, x1, y1, p0=(400, 100, 100))\n",
    "\n",
    "fig = plt.figure(figsize=(6, 4))\n",
    "y = sig(binsx, *par1)\n",
    "ax = fig.add_subplot(111)\n",
    "_ = ax.hist(x, bins=500, range=(0, 500), alpha=0.5, label='data')\n",
    "_ = ax.plot(binsx, y, '-', label='fit')\n",
    "plt.legend(loc='upper right')"
   ]
  },
  {
   "cell_type": "code",
   "execution_count": null,
   "metadata": {},
   "outputs": [],
   "source": [
    "x2 = binsx[binsx < 100]\n",
    "y2 = n[binsx < 100]\n",
    "par2, cov = curve_fit(bg, x2, y2, p0=(400, 100))\n",
    "\n",
    "fig = plt.figure(figsize=(6, 4))\n",
    "y = bg(binsx, *par2)\n",
    "ax = fig.add_subplot(111)\n",
    "_ = ax.hist(x, bins=500, range=(0, 500), alpha=0.5, label='data')\n",
    "_ = ax.plot(binsx, y, '-', label='fit')\n",
    "plt.legend(loc='upper right')"
   ]
  },
  {
   "cell_type": "code",
   "execution_count": null,
   "metadata": {},
   "outputs": [],
   "source": [
    "print(par1, par2)"
   ]
  },
  {
   "cell_type": "code",
   "execution_count": null,
   "metadata": {},
   "outputs": [],
   "source": [
    "par_ini = np.concatenate([par1, par2], 0)\n",
    "par, cov = curve_fit(fun, binsx, n, p0=par_ini)\n",
    "print(par)"
   ]
  },
  {
   "cell_type": "code",
   "execution_count": null,
   "metadata": {},
   "outputs": [],
   "source": [
    "fig = plt.figure(figsize=(6, 4))\n",
    "y = fun(binsx, *par)\n",
    "ax = fig.add_subplot(111)\n",
    "_ = ax.hist(x, bins=500, range=(0, 500), alpha=0.5, label='data')\n",
    "_ = ax.plot(binsx, y, '-', label='fit')\n",
    "plt.legend(loc='upper right')"
   ]
  },
  {
   "cell_type": "code",
   "execution_count": null,
   "metadata": {},
   "outputs": [],
   "source": []
  }
 ],
 "metadata": {
  "kernelspec": {
   "display_name": "Python 3",
   "language": "python",
   "name": "python3"
  },
  "language_info": {
   "codemirror_mode": {
    "name": "ipython",
    "version": 3
   },
   "file_extension": ".py",
   "mimetype": "text/x-python",
   "name": "python",
   "nbconvert_exporter": "python",
   "pygments_lexer": "ipython3",
   "version": "3.8.2"
  }
 },
 "nbformat": 4,
 "nbformat_minor": 4
}

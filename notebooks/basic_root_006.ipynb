{
 "cells": [
  {
   "cell_type": "markdown",
   "metadata": {},
   "source": [
    "### MCAのデータをフィッティング"
   ]
  },
  {
   "cell_type": "markdown",
   "metadata": {},
   "source": [
    "ヒストグラムをMCAで得られたデータ(test.dat)から作成する。"
   ]
  },
  {
   "cell_type": "code",
   "execution_count": 1,
   "metadata": {
    "collapsed": true
   },
   "outputs": [],
   "source": [
    "gROOT->LoadMacro(\"../macros/b3lib.C\");"
   ]
  },
  {
   "cell_type": "code",
   "execution_count": 2,
   "metadata": {},
   "outputs": [
    {
     "name": "stdout",
     "output_type": "stream",
     "text": [
      "size 1024\n"
     ]
    }
   ],
   "source": [
    "auto h = importHist(\"test.dat\"); // \"test.dat\"の部分はみなさんが作成したデータファイルの名前に置き換えてください。"
   ]
  },
  {
   "cell_type": "code",
   "execution_count": 3,
   "metadata": {
    "collapsed": true
   },
   "outputs": [],
   "source": [
    "c = new TCanvas(\"can\",\"\",600,600);"
   ]
  },
  {
   "cell_type": "code",
   "execution_count": 4,
   "metadata": {},
   "outputs": [
    {
     "data": {
      "image/png": "[encoded data removed]",
      "text/plain": [
       "<IPython.core.display.Image object>"
      ]
     },
     "metadata": {},
     "output_type": "display_data"
    }
   ],
   "source": [
    "h->Draw();\n",
    "c->Draw(); // この行は無視して良いです。"
   ]
  },
  {
   "cell_type": "markdown",
   "metadata": {},
   "source": [
    "フィッティング関数の定義、ガウス分布を仮定する。  \n",
    "ROOTではシステムでgaus関数が定義されているのでそれを使用する。  \n",
    "gausは\n",
    "$$\n",
    "gaus(x) = A exp(-\\frac{(x-m)^2}{2\\sigma^2})\n",
    "$$\n",
    "gausnは規格化されたガウス関数で\n",
    "$$\n",
    "gausn(x) = \\frac{Y}{\\sqrt{2\\pi}\\sigma} exp(-\\frac{(x-m)^2}{2\\sigma^2})\n",
    "$$\n",
    "規格化されたガウス関数ではYがイベント数そのものに対応するためこちらを採用する。　\n"
   ]
  },
  {
   "cell_type": "code",
   "execution_count": 5,
   "metadata": {},
   "outputs": [],
   "source": [
    "auto sg = new TF1(\"sg\",\"gausn\",600,1000);"
   ]
  },
  {
   "cell_type": "markdown",
   "metadata": {},
   "source": [
    "最後の2引数は関数が定義されるxの範囲を指定している(今の場合600-1000ch)。\n"
   ]
  },
  {
   "cell_type": "markdown",
   "metadata": {},
   "source": [
    "おおよそのパラメータを初期値として入力。  \n",
    "SetParameters()関数でY, m, $\\sigma$の順でセットする。"
   ]
  },
  {
   "cell_type": "code",
   "execution_count": 6,
   "metadata": {},
   "outputs": [],
   "source": [
    "sg->SetParameters(100,800,50); // Y=100, m = 800, sigma = 50とした"
   ]
  },
  {
   "cell_type": "markdown",
   "metadata": {},
   "source": [
    "フィッティングを行う。"
   ]
  },
  {
   "cell_type": "code",
   "execution_count": 7,
   "metadata": {},
   "outputs": [
    {
     "data": {
      "image/png": "[encoded data removed]",
      "text/plain": [
       "<IPython.core.display.Image object>"
      ]
     },
     "metadata": {},
     "output_type": "display_data"
    },
    {
     "name": "stdout",
     "output_type": "stream",
     "text": [
      " FCN=301.443 FROM MIGRAD    STATUS=CONVERGED     144 CALLS         145 TOTAL\n",
      "                     EDM=5.12851e-07    STRATEGY= 1  ERROR MATRIX UNCERTAINTY   2.5 per cent\n",
      "  EXT PARAMETER                                   STEP         FIRST   \n",
      "  NO.   NAME      VALUE            ERROR          SIZE      DERIVATIVE \n",
      "   1  Constant     7.95960e+02   2.82922e+01   3.51527e-01  -2.76192e-05\n",
      "   2  Mean         7.72225e+02   4.59924e-01  -1.46539e-03   2.39883e-06\n",
      "   3  Sigma        1.25758e+01   5.07152e-01   1.85112e-05  -3.58164e-01\n"
     ]
    }
   ],
   "source": [
    "h->Fit(\"sg\");\n",
    "h->Draw();\n",
    "c->Draw(); // この行は不要。"
   ]
  },
  {
   "cell_type": "markdown",
   "metadata": {},
   "source": [
    "フィッティングによりエントリー数を取得する。  \n",
    "パラメータの最終結果およびその誤差を取得する関数は\n",
    "```c++\n",
    "    getParameter(i);\n",
    "    getParError(i);\n",
    "```\n",
    "ここでiはi番目のパラメータを指定する。"
   ]
  },
  {
   "cell_type": "code",
   "execution_count": 8,
   "metadata": {
    "scrolled": true
   },
   "outputs": [
    {
     "name": "stdout",
     "output_type": "stream",
     "text": [
      "795.96+/-28.2922\n"
     ]
    }
   ],
   "source": [
    "double Y = sg->GetParameter(0);\n",
    "double dY = sg->GetParError(0);\n",
    "std::cout << Y << \"+/-\" << dY << std::endl;"
   ]
  },
  {
   "cell_type": "markdown",
   "metadata": {},
   "source": [
    "これがイベント数及びその誤差となる。"
   ]
  },
  {
   "cell_type": "markdown",
   "metadata": {},
   "source": [
    "<div class=\"alert alert-block alert-info\">\n",
    "<b>実践</b><br>\n",
    "ここまでのコマンドをマクロファイルとして実装してみましょう。  \n",
    "</div>"
   ]
  },
  {
   "cell_type": "markdown",
   "metadata": {},
   "source": [
    "### リビンしてからフィッティング\n",
    "統計が少ない場合、1ch/binでヒストグラムを作成していると正しくフィッティングできないことがある。  \n",
    "そこで以下にリビンを行なった後にフィッティングを行う方法をしめす。  \n",
    "以下の例の場合8 ch/binとしている。"
   ]
  },
  {
   "cell_type": "code",
   "execution_count": 9,
   "metadata": {
    "scrolled": false
   },
   "outputs": [
    {
     "data": {
      "image/png": "[encoded data removed]",
      "text/plain": [
       "<IPython.core.display.Image object>"
      ]
     },
     "metadata": {},
     "output_type": "display_data"
    }
   ],
   "source": [
    "auto h2= rebin(h,8,\"rebinned histogram\"); // リビンする関数\n",
    "h2->Draw();\n",
    "c->Draw(); //この行は不要"
   ]
  },
  {
   "cell_type": "markdown",
   "metadata": {},
   "source": [
    "フィッティング"
   ]
  },
  {
   "cell_type": "code",
   "execution_count": 10,
   "metadata": {
    "collapsed": true
   },
   "outputs": [],
   "source": [
    "sg->SetParameters(100,800,50); // Y=100, m = 800, sigma = 50とした"
   ]
  },
  {
   "cell_type": "code",
   "execution_count": 11,
   "metadata": {},
   "outputs": [
    {
     "name": "stdout",
     "output_type": "stream",
     "text": [
      " FCN=223.859 FROM MIGRAD    STATUS=CONVERGED     201 CALLS         202 TOTAL\n",
      "                     EDM=2.91177e-08    STRATEGY= 1      ERROR MATRIX ACCURATE \n",
      "  EXT PARAMETER                                   STEP         FIRST   \n",
      "  NO.   NAME      VALUE            ERROR          SIZE      DERIVATIVE \n",
      "   1  Constant     6.98529e+03   2.36397e+02   1.72944e+00   6.79756e-07\n",
      "   2  Mean         7.72225e+02   5.06100e-01   3.66744e-03   2.55285e-05\n",
      "   3  Sigma        1.47993e+01   5.75220e-01   2.43792e-05   5.39612e-02\n"
     ]
    }
   ],
   "source": [
    "h2->Fit(\"sg\");"
   ]
  },
  {
   "cell_type": "code",
   "execution_count": 12,
   "metadata": {},
   "outputs": [
    {
     "data": {
      "image/png": "[encoded data removed]",
      "text/plain": [
       "<IPython.core.display.Image object>"
      ]
     },
     "metadata": {},
     "output_type": "display_data"
    }
   ],
   "source": [
    "h2->Draw();\n",
    "c->Draw();"
   ]
  },
  {
   "cell_type": "markdown",
   "metadata": {},
   "source": [
    "イベント数を取得する。  \n",
    "ここで注意すべきは8ch/binとしているので得られたイベント数(Y)を8で割らなければならない。"
   ]
  },
  {
   "cell_type": "code",
   "execution_count": 13,
   "metadata": {},
   "outputs": [
    {
     "name": "stdout",
     "output_type": "stream",
     "text": [
      "873.161+/-29.5496\n"
     ]
    }
   ],
   "source": [
    "Y = sg->GetParameter(0)/8;\n",
    "dY = sg->GetParError(0)/8;\n",
    "std::cout << Y << \"+/-\" << dY << std::endl;\n"
   ]
  },
  {
   "cell_type": "markdown",
   "metadata": {},
   "source": [
    "### 少し複雑な関数でフィッティング\n",
    "ヒストグラムを見るとわかる通りフィッティングカーブとデータの不一致が見られる。  \n",
    "そこでデータをdouble gaussianでfittingしてみる。  　　\n",
    "関数は以下の通り。  \n",
    "中心が同じでシグマが異なる２つのガウス関数の和として定義する。  \n",
    "par[4]はg1, g2の比を与えるものであり、$0 < {\\rm par}[4] < 1$。  \n",
    "したがって$\\int (g1+g2) dx = 1$に規格化されている。"
   ]
  },
  {
   "cell_type": "code",
   "execution_count": 14,
   "metadata": {
    "collapsed": true
   },
   "outputs": [],
   "source": [
    "Double_t doubleGaus(Double_t *x, Double_t *par){\n",
    "  double g1 = TMath::Gaus(x[0], par[1], par[2], kTRUE); \n",
    "  double g2 = TMath::Gaus(x[0], par[1], par[3], kTRUE); \n",
    "  return par[0]*(par[4]*g1+(1-par[4])*g2);\n",
    "}"
   ]
  },
  {
   "cell_type": "code",
   "execution_count": 15,
   "metadata": {},
   "outputs": [
    {
     "name": "stdout",
     "output_type": "stream",
     "text": [
      " FCN=172.582 FROM MIGRAD    STATUS=CONVERGED     166 CALLS         167 TOTAL\n",
      "                     EDM=3.84262e-07    STRATEGY= 1  ERROR MATRIX UNCERTAINTY   1.2 per cent\n",
      "  EXT PARAMETER                                   STEP         FIRST   \n",
      "  NO.   NAME      VALUE            ERROR          SIZE      DERIVATIVE \n",
      "   1  p0           7.40562e+03   2.41757e+02  -4.18553e-01  -1.65908e-06\n",
      "   2  p1           7.71651e+02   4.69808e-01  -5.04553e-04   7.11246e-04\n",
      "   3  p2           2.27296e+01   2.38647e+00   1.27828e-02  -7.91593e-04\n",
      "   4  p3           8.87223e+00   1.17305e+00   8.57026e-03  -7.80605e-04\n",
      "   5  p4           4.77846e-01   1.04573e-01  -5.86051e-04  -1.76855e-02\n"
     ]
    }
   ],
   "source": [
    "auto dg = new TF1(\"dg\",doubleGaus,600,1000,5);\n",
    "dg->SetParameters(1000,770,15,50,0.8);\n",
    "h2->Fit(\"dg\");"
   ]
  },
  {
   "cell_type": "code",
   "execution_count": 16,
   "metadata": {},
   "outputs": [
    {
     "name": "stdout",
     "output_type": "stream",
     "text": [
      "925.702+/-30.2196\n"
     ]
    }
   ],
   "source": [
    "Y = dg->GetParameter(0)/8;\n",
    "dY = dg->GetParError(0)/8;\n",
    "std::cout << Y << \"+/-\" << dY << std::endl;"
   ]
  },
  {
   "cell_type": "markdown",
   "metadata": {},
   "source": [
    "全ての結果を表示させる。\n"
   ]
  },
  {
   "cell_type": "code",
   "execution_count": 17,
   "metadata": {},
   "outputs": [
    {
     "data": {
      "image/png": "[encoded data removed]",
      "text/plain": [
       "<IPython.core.display.Image object>"
      ]
     },
     "metadata": {},
     "output_type": "display_data"
    }
   ],
   "source": [
    "h2->Draw();\n",
    "sg->SetLineColor(kBlue);\n",
    "sg->Draw(\"same\");\n",
    "dg->SetLineColor(kMagenta);\n",
    "dg->Draw(\"same\");\n",
    "auto leg = new TLegend(0.15,0.7,0.4,0.9,\"\",\"NDC\");\n",
    "leg->SetBorderSize(0);\n",
    "leg->AddEntry(h2,\"Data\",\"lep\");\n",
    "leg->AddEntry(sg,\"Single gaussian\",\"l\");\n",
    "leg->AddEntry(dg,\"Double gaussian\",\"l\");\n",
    "leg->Draw();\n",
    "c->Draw();"
   ]
  },
  {
   "cell_type": "code",
   "execution_count": null,
   "metadata": {
    "collapsed": true
   },
   "outputs": [],
   "source": []
  }
 ],
 "metadata": {
  "kernelspec": {
   "display_name": "ROOT C++",
   "language": "c++",
   "name": "root"
  },
  "language_info": {
   "codemirror_mode": "text/x-c++src",
   "file_extension": ".C",
   "mimetype": " text/x-c++src",
   "name": "c++"
  }
 },
 "nbformat": 4,
 "nbformat_minor": 2
}

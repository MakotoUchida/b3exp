{
 "cells": [
  {
   "cell_type": "markdown",
   "metadata": {},
   "source": [
    "### MCAのデータをフィッティング"
   ]
  },
  {
   "cell_type": "markdown",
   "metadata": {},
   "source": [
    "データをインポートする関数"
   ]
  },
  {
   "cell_type": "code",
   "execution_count": 1,
   "metadata": {
    "collapsed": true
   },
   "outputs": [],
   "source": [
    "TH1D* importHist(std::string fname)\n",
    "{\n",
    "\n",
    "  // １次元ヒストグラムの定義\n",
    "  auto *hist = new TH1D(\"h100\",\";channel;entries\",1024,0,1024);\n",
    "  //  auto *hist = new TH1D(\"h100\",\"Title\",1024,0,1024);\n",
    "  std::ifstream infile(fname);\n",
    "\n",
    "  // データコンテナを確保\n",
    "  std::vector<std::pair<int,int>> var;\n",
    "\n",
    "  // ファイルから一行づつ読み込み\n",
    "  int index = 0;\n",
    "  for (string line = \"\"; getline(infile, line);++index)\n",
    "    {\n",
    "      // std::cout << line << std::endl;\n",
    "      int  num = std::atoi(line.c_str());\n",
    "      var.push_back(std::make_pair(index+1,num));\n",
    "    }\n",
    "  // std::cout << \"size \" <<  var.size() << std::endl;\n",
    "\n",
    "  // ヒストグラムにデータをフィル\n",
    "  for (const auto & v : var){\n",
    "    hist->SetBinContent(v.first+1, v.second);\n",
    "  }\n",
    "  // TH1Dのポインタを返す\n",
    "  return hist;\n",
    "}"
   ]
  },
  {
   "cell_type": "markdown",
   "metadata": {},
   "source": [
    "リビンする関数"
   ]
  },
  {
   "cell_type": "code",
   "execution_count": 2,
   "metadata": {
    "collapsed": true
   },
   "outputs": [],
   "source": [
    "TH1D* rebin(TH1D *hist, int ndiv = 1, std::string title=\"\")\n",
    "{\n",
    "  // rebining\n",
    "  TH1D *hist_rebin = (TH1D *)hist->Rebin(ndiv,title.c_str());\n",
    "  return hist_rebin;\n",
    "}\n"
   ]
  },
  {
   "cell_type": "code",
   "execution_count": 3,
   "metadata": {
    "collapsed": false,
    "scrolled": true
   },
   "outputs": [
    {
     "data": {
      "image/png": "[encoded data removed]",
      "text/plain": [
       "<IPython.core.display.Image object>"
      ]
     },
     "metadata": {},
     "output_type": "display_data"
    }
   ],
   "source": [
    "c = new TCanvas(\"can\",\"\",600,600);\n",
    "auto h = importHist(\"test.dat\");\n",
    "auto hRebin = rebin(h,8,\"rebinned histogram\");\n",
    "hRebin->Draw();\n",
    "c->Draw();"
   ]
  },
  {
   "cell_type": "markdown",
   "metadata": {},
   "source": [
    "ガウス関数を定義  \n",
    "第一引数xが変数、第２引数parはパラメータの配列。  \n",
    "par[0]はエントリーの数、par[1]が中心値、par[2]がシグマ。  \n",
    "ここで`TMath::Gaus()`の第四引数の`kTRUE`によって規格化されている(/$\\sqrt{2\\pi}\\sigma$)。"
   ]
  },
  {
   "cell_type": "code",
   "execution_count": 4,
   "metadata": {
    "collapsed": false
   },
   "outputs": [],
   "source": [
    "Double_t gaus(Double_t *x, Double_t *par) {\n",
    "  return par[0]*TMath::Gaus(x[0], par[1], par[2], kTRUE); // normalized gaus\n",
    "}"
   ]
  },
  {
   "cell_type": "code",
   "execution_count": 5,
   "metadata": {
    "collapsed": false
   },
   "outputs": [],
   "source": [
    "auto sg = new TF1(\"sg\",gaus,600,1000,3 );"
   ]
  },
  {
   "cell_type": "code",
   "execution_count": 6,
   "metadata": {
    "collapsed": false
   },
   "outputs": [],
   "source": [
    "sg->SetParameters(1000,770,50);"
   ]
  },
  {
   "cell_type": "code",
   "execution_count": 7,
   "metadata": {
    "collapsed": false
   },
   "outputs": [
    {
     "data": {
      "image/png": "[encoded data removed]",
      "text/plain": [
       "<IPython.core.display.Image object>"
      ]
     },
     "metadata": {},
     "output_type": "display_data"
    },
    {
     "name": "stdout",
     "output_type": "stream",
     "text": [
      " FCN=223.859 FROM MIGRAD    STATUS=CONVERGED      90 CALLS          91 TOTAL\n",
      "                     EDM=3.90961e-07    STRATEGY= 1      ERROR MATRIX ACCURATE \n",
      "  EXT PARAMETER                                   STEP         FIRST   \n",
      "  NO.   NAME      VALUE            ERROR          SIZE      DERIVATIVE \n",
      "   1  p0           6.98527e+03   2.36396e+02   1.72944e+00  -7.18577e-08\n",
      "   2  p1           7.72226e+02   5.06086e-01   3.66539e-03   8.09998e-04\n",
      "   3  p2           1.47991e+01   5.75202e-01   4.16660e-03  -1.46707e-03\n"
     ]
    }
   ],
   "source": [
    "hRebin->Fit(\"sg\");\n",
    "hRebin->Draw();\n",
    "c->Draw();"
   ]
  },
  {
   "cell_type": "markdown",
   "metadata": {},
   "source": [
    "フィッティングによりエントリー数を取得する。  \n",
    "ここでヒストグラムは8channe/binなのでfittingで得られた値の1/8しなければならないことに注意。"
   ]
  },
  {
   "cell_type": "code",
   "execution_count": 8,
   "metadata": {
    "collapsed": false
   },
   "outputs": [
    {
     "name": "stdout",
     "output_type": "stream",
     "text": [
      "873.158+/-29.5496\n"
     ]
    }
   ],
   "source": [
    "double Y = sg->GetParameter(0)/8;\n",
    "double dY = sg->GetParError(0)/8;\n",
    "std::cout << Y << \"+/-\" << dY << std::endl;\n"
   ]
  },
  {
   "cell_type": "markdown",
   "metadata": {},
   "source": [
    "次にデータをdouble gaussianでfittingしてみる。　　\n",
    "関数は以下の通り。  \n",
    "中心が同じでシグマが異なる２つのガウス関数の和として定義する。  \n",
    "par[4]はg1, g2の比を与えるものであり、$0 < {\\rm par}[4] < 1$。  \n",
    "したがって$\\int (g1+g2) dx = 1$に規格化されている。"
   ]
  },
  {
   "cell_type": "code",
   "execution_count": 9,
   "metadata": {
    "collapsed": true
   },
   "outputs": [],
   "source": [
    "Double_t doubleGaus(Double_t *x, Double_t *par){\n",
    "  double g1 = TMath::Gaus(x[0], par[1], par[2], kTRUE); \n",
    "  double g2 = TMath::Gaus(x[0], par[1], par[3], kTRUE); \n",
    "  return par[0]*(par[4]*g1+(1-par[4])*g2);\n",
    "}\n",
    "\n"
   ]
  },
  {
   "cell_type": "code",
   "execution_count": 10,
   "metadata": {
    "collapsed": false
   },
   "outputs": [
    {
     "name": "stdout",
     "output_type": "stream",
     "text": [
      " FCN=172.582 FROM MIGRAD    STATUS=CONVERGED     166 CALLS         167 TOTAL\n",
      "                     EDM=3.84262e-07    STRATEGY= 1  ERROR MATRIX UNCERTAINTY   1.2 per cent\n",
      "  EXT PARAMETER                                   STEP         FIRST   \n",
      "  NO.   NAME      VALUE            ERROR          SIZE      DERIVATIVE \n",
      "   1  p0           7.40562e+03   2.41757e+02  -4.18553e-01  -1.65908e-06\n",
      "   2  p1           7.71651e+02   4.69808e-01  -5.04553e-04   7.11246e-04\n",
      "   3  p2           2.27296e+01   2.38647e+00   1.27828e-02  -7.91593e-04\n",
      "   4  p3           8.87223e+00   1.17305e+00   8.57026e-03  -7.80605e-04\n",
      "   5  p4           4.77846e-01   1.04573e-01  -5.86051e-04  -1.76855e-02\n"
     ]
    }
   ],
   "source": [
    "auto dg = new TF1(\"dg\",doubleGaus,600,1000,5);\n",
    "  dg->SetParameters(1000,770,15,50,0.8);\n",
    "  hRebin->Fit(\"dg\");"
   ]
  },
  {
   "cell_type": "code",
   "execution_count": 11,
   "metadata": {
    "collapsed": false
   },
   "outputs": [
    {
     "name": "stdout",
     "output_type": "stream",
     "text": [
      "925.702+/-30.2196\n"
     ]
    }
   ],
   "source": [
    "Y = dg->GetParameter(0)/8;\n",
    "dY = dg->GetParError(0)/8;\n",
    "std::cout << Y << \"+/-\" << dY << std::endl;\n"
   ]
  },
  {
   "cell_type": "markdown",
   "metadata": {},
   "source": [
    "全ての結果を表示させる。\n"
   ]
  },
  {
   "cell_type": "code",
   "execution_count": 12,
   "metadata": {
    "collapsed": false
   },
   "outputs": [
    {
     "data": {
      "image/png": "[encoded data removed]",
      "text/plain": [
       "<IPython.core.display.Image object>"
      ]
     },
     "metadata": {},
     "output_type": "display_data"
    }
   ],
   "source": [
    "hRebin->Draw();\n",
    "sg->SetLineColor(kBlue);\n",
    "sg->Draw(\"same\");\n",
    "dg->SetLineColor(kMagenta);\n",
    "dg->Draw(\"same\");\n",
    "auto leg = new TLegend(0.15,0.7,0.4,0.9,\"\",\"NDC\");\n",
    "leg->SetBorderSize(0);\n",
    "leg->AddEntry(hRebin,\"Data\",\"lep\");\n",
    "leg->AddEntry(sg,\"Single gaussian\",\"l\");\n",
    "leg->AddEntry(dg,\"Double gaussian\",\"l\");\n",
    "leg->Draw();\n",
    "c->Draw();\n"
   ]
  },
  {
   "cell_type": "code",
   "execution_count": null,
   "metadata": {
    "collapsed": true
   },
   "outputs": [],
   "source": []
  }
 ],
 "metadata": {
  "kernelspec": {
   "display_name": "ROOT C++",
   "language": "c++",
   "name": "root"
  },
  "language_info": {
   "codemirror_mode": "text/x-c++src",
   "file_extension": ".C",
   "mimetype": " text/x-c++src",
   "name": "c++"
  }
 },
 "nbformat": 4,
 "nbformat_minor": 2
}

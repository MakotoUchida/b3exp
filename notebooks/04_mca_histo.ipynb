{
 "cells": [
  {
   "cell_type": "markdown",
   "metadata": {},
   "source": [
    "# MCAのデータからヒストグラムを作成する方法\n",
    "MCAによって得られたデータから`matplotlib`をもちいてヒストグラムを作成する。  \n",
    "データファイルのフォーマットは基本各行がチャンネルごとのイベント数を表してる。  \n",
    "ただし最後の５行に、測定時間などのまとめ情報が記録されていることに注意して、データを読み込む。\n"
   ]
  },
  {
   "cell_type": "code",
   "execution_count": null,
   "metadata": {},
   "outputs": [],
   "source": [
    "import numpy as np\n",
    "import pandas as pd\n",
    "import matplotlib.pyplot as plt"
   ]
  },
  {
   "cell_type": "code",
   "execution_count": null,
   "metadata": {},
   "outputs": [],
   "source": [
    "df = pd.read_csv('Al10deg.csv', usecols=[0],\n",
    "                 names=['n'], skipfooter=5,\n",
    "                 engine='python')"
   ]
  },
  {
   "cell_type": "code",
   "execution_count": null,
   "metadata": {},
   "outputs": [],
   "source": [
    "df['dn'] = df.apply(lambda x: np.sqrt(x))"
   ]
  },
  {
   "cell_type": "code",
   "execution_count": null,
   "metadata": {},
   "outputs": [],
   "source": [
    "plt.errorbar(df.index, df.n, yerr=df.dn, label='both limits (default)')"
   ]
  },
  {
   "cell_type": "code",
   "execution_count": null,
   "metadata": {},
   "outputs": [],
   "source": [
    "plt.plot(df.index, df.n)  # エラーバーなし"
   ]
  },
  {
   "cell_type": "markdown",
   "metadata": {},
   "source": [
    "# フィッティング"
   ]
  },
  {
   "cell_type": "code",
   "execution_count": null,
   "metadata": {},
   "outputs": [],
   "source": [
    "from scipy.optimize import curve_fit\n",
    "\n",
    "\n",
    "def fun(x, a, m, s):\n",
    "    return a*np.exp(-0.5*(x-m)**2/s**2)\n",
    "\n",
    "\n",
    "par, cov = curve_fit(fun, df.index, df.n, p0=(70, 300, 50))"
   ]
  },
  {
   "cell_type": "code",
   "execution_count": null,
   "metadata": {},
   "outputs": [],
   "source": [
    "x = np.linspace(0, 600, 600)\n",
    "y = fun(x, par[0], par[1], par[2])\n",
    "plt.errorbar(df.index, df.n, yerr=df.dn, label='data', alpha=0.4)\n",
    "plt.plot(x, y, label='fit')\n",
    "plt.legend()"
   ]
  },
  {
   "cell_type": "code",
   "execution_count": null,
   "metadata": {},
   "outputs": [],
   "source": []
  }
 ],
 "metadata": {
  "kernelspec": {
   "display_name": "Python 3",
   "language": "python",
   "name": "python3"
  },
  "language_info": {
   "codemirror_mode": {
    "name": "ipython",
    "version": 3
   },
   "file_extension": ".py",
   "mimetype": "text/x-python",
   "name": "python",
   "nbconvert_exporter": "python",
   "pygments_lexer": "ipython3",
   "version": "3.8.2"
  }
 },
 "nbformat": 4,
 "nbformat_minor": 4
}

{
 "cells": [
  {
   "cell_type": "markdown",
   "metadata": {},
   "source": [
    "# 微分断面積のグラフ作成\n",
    "ラザフォード散乱の公式は  \n",
    "$$\n",
    "\\frac{d\\sigma}{d\\Omega}(\\theta) = \\frac{zZe^2}{4E^2}\\frac{1}{sin^4(\\theta/2)}\n",
    "$$\n",
    "ここで$e = \\hbar c \\alpha = 197.3\\times \\frac{1}{137}$　(MeV$\\cdot$fm)を用いる。"
   ]
  },
  {
   "cell_type": "code",
   "execution_count": null,
   "metadata": {},
   "outputs": [],
   "source": [
    "import numpy as np\n",
    "import matplotlib.pyplot as plt"
   ]
  },
  {
   "cell_type": "code",
   "execution_count": null,
   "metadata": {},
   "outputs": [],
   "source": [
    "z = 2  # alpha は4He 2+\n",
    "Z = 13  # Alの陽子数は13\n",
    "hbarc = 197.3\n",
    "alpha = 1/137.\n",
    "e2 = (hbarc*alpha)**2\n",
    "E = 4.5"
   ]
  },
  {
   "cell_type": "code",
   "execution_count": null,
   "metadata": {},
   "outputs": [],
   "source": [
    "q = np.linspace(1, 90)\n",
    "dsdW = (z*Z*e2/4/E**2)/(np.sin(np.radians(q)/2))**4"
   ]
  },
  {
   "cell_type": "code",
   "execution_count": null,
   "metadata": {},
   "outputs": [],
   "source": [
    "fig = plt.figure(figsize=(8, 8))\n",
    "ax = fig.add_subplot(111)\n",
    "ax.plot(q, dsdW, '-')\n",
    "plt.yscale('log')  # ログスケール\n",
    "ax.set_xlabel(r'$\\theta$ (deg.)')\n",
    "ax.set_ylabel(r'$d\\sigma/d\\Omega$ (fm$^2$)')"
   ]
  },
  {
   "cell_type": "markdown",
   "metadata": {},
   "source": [
    "# エクセルで計算した結果を持っている場合\n",
    "`pandas.read_exel()`関数を使ってエクセルの表を読み込みます。"
   ]
  },
  {
   "cell_type": "code",
   "execution_count": null,
   "metadata": {},
   "outputs": [],
   "source": [
    "import pandas as pd"
   ]
  },
  {
   "cell_type": "code",
   "execution_count": null,
   "metadata": {},
   "outputs": [],
   "source": [
    "df = pd.read_excel('cs.xlsx', usecols=[0, 1], names=['theta', 'dsdW'])"
   ]
  },
  {
   "cell_type": "code",
   "execution_count": null,
   "metadata": {},
   "outputs": [],
   "source": [
    "fig = plt.figure(figsize=(8, 8))\n",
    "ax = fig.add_subplot(111)\n",
    "ax.plot(q, dsdW, '-', label='by jupy')\n",
    "ax.plot(df.theta, df.dsdW, '--', label='from excel')\n",
    "plt.yscale('log')  # ログスケール\n",
    "ax.set_xlabel(r'$\\theta$ (deg.)')\n",
    "ax.set_ylabel(r'$d\\sigma/d\\Omega$ (fm$^2$)')\n",
    "plt.legend(loc='upper right')"
   ]
  },
  {
   "cell_type": "code",
   "execution_count": null,
   "metadata": {},
   "outputs": [],
   "source": []
  }
 ],
 "metadata": {
  "kernelspec": {
   "display_name": "Python 3",
   "language": "python",
   "name": "python3"
  },
  "language_info": {
   "codemirror_mode": {
    "name": "ipython",
    "version": 3
   },
   "file_extension": ".py",
   "mimetype": "text/x-python",
   "name": "python",
   "nbconvert_exporter": "python",
   "pygments_lexer": "ipython3",
   "version": "3.8.2"
  }
 },
 "nbformat": 4,
 "nbformat_minor": 4
}

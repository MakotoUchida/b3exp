{
 "cells": [
  {
   "cell_type": "markdown",
   "metadata": {},
   "source": [
    "# Geiger-Nuttallのプロット\n",
    "教科書に掲載されているテーブルからGeiger-Nuttallのプロットを作成する。  \n",
    "事前にテーブルをテキストファイルとして作成する必要がある。  \n",
    "以下の例ではそれぞれのデータをgroup1.dat, group2.dat, group3,datとしている。  \n",
    "各データファイルのフォーマットは以下のように取り決める。    \n",
    "\n",
    "```\n",
    "原子番号と放出エネルギーの-1/2乗の積  崩壊確率の(自然)対数\n",
    "```\n",
    "\n",
    "各データファイルからグラフを作成します。　　\n",
    "\n",
    "はじめにテキストデータ(またはエクセルデータ) を`pandas`データフレームに読み込みます。"
   ]
  },
  {
   "cell_type": "code",
   "execution_count": null,
   "metadata": {},
   "outputs": [],
   "source": [
    "import numpy as np\n",
    "import matplotlib.pyplot as plt\n",
    "import pandas as pd"
   ]
  },
  {
   "cell_type": "code",
   "execution_count": null,
   "metadata": {},
   "outputs": [],
   "source": [
    "df1 = pd.read_csv('group1.dat', delim_whitespace=True, names=['ZE', 'logl'])\n",
    "df2 = pd.read_csv('group2.dat', delim_whitespace=True, names=['ZE', 'logl'])\n",
    "df3 = pd.read_csv('group3.dat', delim_whitespace=True, names=['ZE', 'logl'])"
   ]
  },
  {
   "cell_type": "markdown",
   "metadata": {},
   "source": [
    "グラフを作成します。"
   ]
  },
  {
   "cell_type": "code",
   "execution_count": null,
   "metadata": {},
   "outputs": [],
   "source": [
    "plt.plot(df1.ZE, df1.logl, 'o', label='group1')\n",
    "plt.plot(df2.ZE, df2.logl, 'o', label='group2')\n",
    "plt.plot(df3.ZE, df3.logl, 'o', label='group3')\n",
    "plt.legend(loc='upper right')"
   ]
  },
  {
   "cell_type": "markdown",
   "metadata": {},
   "source": [
    "# y切片 (C) を求めるためにフィッティング\n",
    "線形フィットなので解析的に最適値は決定できます。  \n",
    "しかし、グループ２，３のデータが限られているため、傾きの値はグループ１のフィッティング結果を用いることにします。"
   ]
  },
  {
   "cell_type": "code",
   "execution_count": null,
   "metadata": {},
   "outputs": [],
   "source": [
    "from scipy.optimize import curve_fit\n",
    "\n",
    "\n",
    "def f1(x, a, c):\n",
    "    return a*x+c\n",
    "\n",
    "\n",
    "def f2(x, a, c):\n",
    "    return a*x+c\n",
    "\n",
    "\n",
    "def f3(x, a, c):\n",
    "    return a*x+c"
   ]
  },
  {
   "cell_type": "markdown",
   "metadata": {},
   "source": [
    "グループ１に関する直線フィット"
   ]
  },
  {
   "cell_type": "code",
   "execution_count": null,
   "metadata": {},
   "outputs": [],
   "source": [
    "par1, _ = curve_fit(f1, df1.ZE, df1.logl)"
   ]
  },
  {
   "cell_type": "markdown",
   "metadata": {},
   "source": [
    "グループ２，３に対する直線フィットでは、傾きはグループ１のフィッティング結果をもちいるようにします。\n"
   ]
  },
  {
   "cell_type": "code",
   "execution_count": null,
   "metadata": {},
   "outputs": [],
   "source": [
    "a_fixed = par1[0]\n",
    "par2, _ = curve_fit(lambda x, c: f2(x, a_fixed, c),\n",
    "                    df2.ZE, df2.logl)  # 傾きはfit1の結果！\n",
    "par2 = [par1[0], par2[0]]\n",
    "par3, _ = curve_fit(lambda x, c: f3(x, a_fixed, c),\n",
    "                    df3.ZE, df3.logl)  # 傾きはfit1の結果！\n",
    "par3 = [par1[0], par3[0]]"
   ]
  },
  {
   "cell_type": "markdown",
   "metadata": {},
   "source": [
    "# データとフィッティングの結果をグラフ化"
   ]
  },
  {
   "cell_type": "code",
   "execution_count": null,
   "metadata": {},
   "outputs": [],
   "source": [
    "ze = np.linspace(35, 47)\n",
    "logl1 = f1(ze, *par1)\n",
    "logl2 = f2(ze, *par2)\n",
    "logl3 = f3(ze, *par3)\n",
    "\n",
    "plt.plot(df1.ZE, df1.logl, 'o', label='group1')  # data group1\n",
    "plt.plot(df2.ZE, df2.logl, 'o', label='group2')  # data group2\n",
    "plt.plot(df3.ZE, df3.logl, 'o', label='group3')  # data group3\n",
    "plt.plot(ze, logl1, '-', label='fit1')  # fit group1\n",
    "plt.plot(ze, logl2, '-', label='fit2')  # fit group2\n",
    "plt.plot(ze, logl3, '-', label='fit3')  # fit group3\n",
    "plt.legend(loc='upper right')"
   ]
  },
  {
   "cell_type": "code",
   "execution_count": null,
   "metadata": {},
   "outputs": [],
   "source": []
  }
 ],
 "metadata": {
  "kernelspec": {
   "display_name": "Python 3",
   "language": "python",
   "name": "python3"
  },
  "language_info": {
   "codemirror_mode": {
    "name": "ipython",
    "version": 3
   },
   "file_extension": ".py",
   "mimetype": "text/x-python",
   "name": "python",
   "nbconvert_exporter": "python",
   "pygments_lexer": "ipython3",
   "version": "3.8.2"
  }
 },
 "nbformat": 4,
 "nbformat_minor": 4
}

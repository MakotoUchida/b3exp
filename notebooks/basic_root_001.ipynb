{
 "cells": [
  {
   "cell_type": "markdown",
   "metadata": {},
   "source": [
    "# ROOTを使った簡単な乱数生成およびフィットの一例\n",
    "\n",
    "一次元ヒストグラムを生成  \n",
    "TH1Dの引数は順番に名前、タイトル(以下の例では空)、ビンの数、下限値、上限値。  \n",
    "詳細は[ROOTのホームページ](https://root.cern.ch/root/html524/TH1.html)  \n",
    "明示的に書くと`TH1D* h`だがautoとすると自動的に型を判断してくれるので便利。"
   ]
  },
  {
   "cell_type": "code",
   "execution_count": 1,
   "metadata": {
    "collapsed": true
   },
   "outputs": [],
   "source": [
    "auto h = new TH1D(\"h\",\"\",100,-3,3);"
   ]
  },
  {
   "cell_type": "markdown",
   "metadata": {},
   "source": [
    "ガウス分布の乱数生成"
   ]
  },
  {
   "cell_type": "code",
   "execution_count": 2,
   "metadata": {
    "collapsed": true
   },
   "outputs": [],
   "source": [
    "h->FillRandom(\"gaus\");"
   ]
  },
  {
   "cell_type": "markdown",
   "metadata": {},
   "source": [
    "ガウス分布でフィットして描画。\n",
    "Fit()関数でヒストグラムのフィッティングを行う。  \n",
    "ガウス関数はシステムで用意されているのでキーワード\"gaus\"とすれば実行できる。\n"
   ]
  },
  {
   "cell_type": "code",
   "execution_count": 7,
   "metadata": {
    "collapsed": false
   },
   "outputs": [
    {
     "data": {
      "image/png": "[encoded data removed]",
      "text/plain": [
       "<IPython.core.display.Image object>"
      ]
     },
     "metadata": {},
     "output_type": "display_data"
    },
    {
     "name": "stdout",
     "output_type": "stream",
     "text": [
      " FCN=101.673 FROM MIGRAD    STATUS=CONVERGED      60 CALLS          61 TOTAL\n",
      "                     EDM=4.35405e-08    STRATEGY= 1      ERROR MATRIX ACCURATE \n",
      "  EXT PARAMETER                                   STEP         FIRST   \n",
      "  NO.   NAME      VALUE            ERROR          SIZE      DERIVATIVE \n",
      "   1  Constant     1.18688e+02   2.08841e+00   8.39022e-03  -1.16461e-04\n",
      "   2  Mean         1.38603e-02   1.44112e-02   7.11043e-05  -8.14698e-03\n",
      "   3  Sigma        9.90957e-01   1.04866e-02   1.40777e-05   1.47484e-02\n"
     ]
    }
   ],
   "source": [
    "h->Fit(\"gaus\");\n",
    "h->Draw();\n",
    "c1->Draw()"
   ]
  },
  {
   "cell_type": "code",
   "execution_count": null,
   "metadata": {
    "collapsed": true
   },
   "outputs": [],
   "source": []
  }
 ],
 "metadata": {
  "kernelspec": {
   "display_name": "ROOT C++",
   "language": "c++",
   "name": "root"
  },
  "language_info": {
   "codemirror_mode": "text/x-c++src",
   "file_extension": ".C",
   "mimetype": " text/x-c++src",
   "name": "c++"
  }
 },
 "nbformat": 4,
 "nbformat_minor": 2
}

{
 "cells": [
  {
   "cell_type": "markdown",
   "metadata": {},
   "source": [
    "# グラフの書き方\n",
    "\n",
    "ROOTではTGraph()を使ってグラフを作成、表示する。\n",
    "TGraphの引数はデータ数,x配列,y配列。  \n",
    "詳しくは[ROOTのホームページ参照](https://root.cern.ch/doc/master/classTGraph.html)  \n",
    "ここでは0-2$\\pi$までのsin関数をグラフを作成して、表示してみる。"
   ]
  },
  {
   "cell_type": "code",
   "execution_count": 1,
   "metadata": {
    "collapsed": false
   },
   "outputs": [],
   "source": [
    "double q[100]; // thetaを入れるための配列\n",
    "double sq[100]; // sin(theta)を入れるための配列"
   ]
  },
  {
   "cell_type": "markdown",
   "metadata": {},
   "source": [
    "for文を使って各要素にsin関数のデータとエラーを代入していく。  \n",
    "ここでstatic_castはデータ型の変換を意味する。つまり整数型のiを浮動小数点型に変換している。  \n",
    "TMath::Sin(),TMath::Pi()は名前空間TMathで定義されているSin(),Pi()という関数を意味している。"
   ]
  },
  {
   "cell_type": "code",
   "execution_count": 2,
   "metadata": {
    "collapsed": false
   },
   "outputs": [],
   "source": [
    "for(int i = 0; i < 100;++i)\n",
    "{\n",
    "    q[i] = (static_cast<double>(i)/100)*2*TMath::Pi();\n",
    "    sq[i] = TMath::Sin(q[i]);\n",
    "}"
   ]
  },
  {
   "cell_type": "markdown",
   "metadata": {},
   "source": [
    "キャンバスの作成"
   ]
  },
  {
   "cell_type": "code",
   "execution_count": 3,
   "metadata": {
    "collapsed": true
   },
   "outputs": [],
   "source": [
    "auto can = new TCanvas(\"can\",\"\",600,600); "
   ]
  },
  {
   "cell_type": "markdown",
   "metadata": {},
   "source": [
    "グラフの作成"
   ]
  },
  {
   "cell_type": "code",
   "execution_count": 4,
   "metadata": {
    "collapsed": false
   },
   "outputs": [
    {
     "data": {
      "image/png": "[encoded data removed]",
      "text/plain": [
       "<IPython.core.display.Image object>"
      ]
     },
     "metadata": {},
     "output_type": "display_data"
    }
   ],
   "source": [
    "auto gr = new TGraph(100,q,sq);\n",
    "gr->Draw();\n",
    "can->Draw();"
   ]
  },
  {
   "cell_type": "code",
   "execution_count": null,
   "metadata": {
    "collapsed": true
   },
   "outputs": [],
   "source": []
  }
 ],
 "metadata": {
  "kernelspec": {
   "display_name": "ROOT C++",
   "language": "c++",
   "name": "root"
  },
  "language_info": {
   "codemirror_mode": "text/x-c++src",
   "file_extension": ".C",
   "mimetype": " text/x-c++src",
   "name": "c++"
  }
 },
 "nbformat": 4,
 "nbformat_minor": 2
}

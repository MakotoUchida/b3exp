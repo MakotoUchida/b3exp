{
 "cells": [
  {
   "cell_type": "markdown",
   "metadata": {},
   "source": [
    "# グラフの書き方\n",
    "\n",
    "ROOTではTGraph()を使ってグラフを作成、表示する。\n",
    "書式  \n",
    "```c++\n",
    "    new TGraph(データ数,x配列,y配列);\n",
    "```\n",
    "\n",
    "詳しくは[ROOTのホームページ参照](https://root.cern.ch/doc/master/classTGraph.html)  \n",
    "\n",
    "以下でsin関数のグラフを作成してみる。  \n",
    "まず$0,30,45, 60, 90$度をx配列に、そのサイン関数の値を計算しておいてy配列につめる。"
   ]
  },
  {
   "cell_type": "code",
   "execution_count": 1,
   "metadata": {
    "collapsed": false
   },
   "outputs": [],
   "source": [
    "double x[10] = {0, 30, 45, 60, 90, 120, 135, 150, 180}; // x配列\n",
    "double y[10] = {0, 0.5,0.70710678, 0.86602540, 1, 0.86602540, 0.70710678, 0.5, 0}; // y配列"
   ]
  },
  {
   "cell_type": "markdown",
   "metadata": {},
   "source": [
    "キャンバスの作成"
   ]
  },
  {
   "cell_type": "code",
   "execution_count": 2,
   "metadata": {
    "collapsed": true
   },
   "outputs": [],
   "source": [
    "auto can = new TCanvas();"
   ]
  },
  {
   "cell_type": "markdown",
   "metadata": {},
   "source": [
    "グラフの作成"
   ]
  },
  {
   "cell_type": "code",
   "execution_count": 3,
   "metadata": {
    "collapsed": false
   },
   "outputs": [
    {
     "data": {
      "image/png": "[encoded data removed]",
      "text/plain": [
       "<IPython.core.display.Image object>"
      ]
     },
     "metadata": {},
     "output_type": "display_data"
    }
   ],
   "source": [
    "auto gr = new TGraph(9,x,y);\n",
    "gr->Draw();\n",
    "can->Draw();"
   ]
  },
  {
   "cell_type": "markdown",
   "metadata": {},
   "source": [
    "実用上、計算をコードの外で行なって配列に詰めていくということは効率が悪いのでやらない。  \n",
    "コード上でループを行いsin関数を呼んで計算していく。  \n",
    "以下が普通に用いるコード"
   ]
  },
  {
   "cell_type": "code",
   "execution_count": 4,
   "metadata": {
    "collapsed": false
   },
   "outputs": [],
   "source": [
    "const int num = 100; // 配列の要素数\n",
    "double q[num]; // 角度\n",
    "double sq[num]; // sin関数の配列"
   ]
  },
  {
   "cell_type": "markdown",
   "metadata": {},
   "source": [
    "for文を使って各要素にsin関数のデータとエラーを代入していく。  \n",
    "ここでstatic_castはデータ型の変換を意味する。つまり整数型のiを浮動小数点型に変換している。  \n",
    "TMath::Sin(),TMath::Pi()は名前空間TMathで定義されているSin(),Pi()という関数を意味している。  \n",
    "名前空間については[補足]()  \n",
    "なお、for文など複数の行を記述するようになるとROOTのコマンドラインで一行づつ入力するスタイルだと作業効率が悪くなるのでマクロファイルを作成してそれを実行する方が良い。"
   ]
  },
  {
   "cell_type": "code",
   "execution_count": 5,
   "metadata": {
    "collapsed": false
   },
   "outputs": [],
   "source": [
    "for(int i = 0; i < 100;++i)\n",
    "{\n",
    "    q[i] = (static_cast<double>(i)/100)*360.0; //0-360 degのデータ\n",
    "    sq[i] = TMath::Sin(q[i]*TMath::Pi()/180); // deg. -> radの変換をするのを忘れないこと\n",
    "}"
   ]
  },
  {
   "cell_type": "code",
   "execution_count": 6,
   "metadata": {
    "collapsed": false
   },
   "outputs": [],
   "source": [
    "auto gr1 = new TGraph(num,q,sq);\n"
   ]
  },
  {
   "cell_type": "code",
   "execution_count": 7,
   "metadata": {
    "collapsed": false
   },
   "outputs": [
    {
     "data": {
      "image/png": "[encoded data removed]",
      "text/plain": [
       "<IPython.core.display.Image object>"
      ]
     },
     "metadata": {},
     "output_type": "display_data"
    }
   ],
   "source": [
    "auto can1 = new TCanvas();\n",
    "gr1->Draw();\n",
    "can1->Draw();"
   ]
  },
  {
   "cell_type": "code",
   "execution_count": null,
   "metadata": {
    "collapsed": true
   },
   "outputs": [],
   "source": []
  }
 ],
 "metadata": {
  "kernelspec": {
   "display_name": "ROOT C++",
   "language": "c++",
   "name": "root"
  },
  "language_info": {
   "codemirror_mode": "text/x-c++src",
   "file_extension": ".C",
   "mimetype": " text/x-c++src",
   "name": "c++"
  }
 },
 "nbformat": 4,
 "nbformat_minor": 2
}

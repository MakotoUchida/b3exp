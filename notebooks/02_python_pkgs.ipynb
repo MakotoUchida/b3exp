{
 "cells": [
  {
   "cell_type": "markdown",
   "metadata": {},
   "source": [
    "# Python環境でのグラフの書き方\n",
    "\n",
    "Pythonでは`matplotlib'というパッケージを用いてグラフやヒストグラムを作成します。\n",
    "```python\n",
    "    import matplotlib.pyplot as plt\n",
    "```\n",
    "としてパッケージを`import`します。\n",
    "# グラフ作成\n",
    "以下でsin関数のグラフを作成してみます。  \n",
    "それぞれのリストは`numpy`配列として準備します。"
   ]
  },
  {
   "cell_type": "code",
   "execution_count": null,
   "metadata": {},
   "outputs": [],
   "source": [
    "import numpy as np\n",
    "import matplotlib.pyplot as plt"
   ]
  },
  {
   "cell_type": "code",
   "execution_count": null,
   "metadata": {},
   "outputs": [],
   "source": [
    "x = np.linspace(0, np.pi*2)  # 0 - 2 piまでの値\n",
    "y = np.sin(x)"
   ]
  },
  {
   "cell_type": "markdown",
   "metadata": {},
   "source": [
    "`matplotlib`を用いてグラフを表示します。"
   ]
  },
  {
   "cell_type": "code",
   "execution_count": null,
   "metadata": {},
   "outputs": [],
   "source": [
    "plt.plot(x, y)"
   ]
  },
  {
   "cell_type": "markdown",
   "metadata": {},
   "source": [
    "# ヒストグラム作成\n",
    "以下では、ガウス分布を発生させて、その分布をヒストグラムとして表示します。"
   ]
  },
  {
   "cell_type": "code",
   "execution_count": null,
   "metadata": {},
   "outputs": [],
   "source": [
    "x = np.random.normal(0, 1, 10000)  # m = 0, sigma = 1を１０００0件生成"
   ]
  },
  {
   "cell_type": "markdown",
   "metadata": {},
   "source": [
    "`matplotlib`を用いてヒストグラムを作成します。"
   ]
  },
  {
   "cell_type": "code",
   "execution_count": null,
   "metadata": {},
   "outputs": [],
   "source": [
    "_ = plt.hist(x, bins=100)"
   ]
  },
  {
   "cell_type": "markdown",
   "metadata": {},
   "source": [
    "# フィッティング\n",
    "フィッティングには`scipy`パッケージで用意されている  \n",
    "`optimize.curve_fit()`関数を用いることにする。"
   ]
  },
  {
   "cell_type": "code",
   "execution_count": null,
   "metadata": {},
   "outputs": [],
   "source": [
    "from scipy.optimize import curve_fit"
   ]
  },
  {
   "cell_type": "markdown",
   "metadata": {},
   "source": [
    "使い方は、簡単に言うと\n",
    "```python\n",
    "curve_fit(関数, データx, データy, 初期値)\n",
    "```\n",
    "とすればよい。  \n",
    "返り値として最適化されたパラメータのリスト （+共分散行列）。  \n",
    "詳しい使い方は、`help`を使うか、ウェブの公式ドキュメントを参照すること。　　\n",
    "### フィッティング関数の定義\n",
    "ガウシアン\n",
    "$$\n",
    "g(x) = ae^{-\\frac{1}{2}\\frac{(x-m)^2}{s^2}}\n",
    "$$\n",
    "を仮定しているのでフィッティング関数`g()`は次のようにする。"
   ]
  },
  {
   "cell_type": "code",
   "execution_count": null,
   "metadata": {},
   "outputs": [],
   "source": [
    "def g(x, a, m, s):\n",
    "    return a*np.exp(-0.5*(x-m)**2/s**2)"
   ]
  },
  {
   "cell_type": "code",
   "execution_count": null,
   "metadata": {},
   "outputs": [],
   "source": [
    "n, bins = np.histogram(x, bins=100, range=(-4, 4))\n",
    "bins = (bins[0:-1]+bins[1:])*0.5"
   ]
  },
  {
   "cell_type": "code",
   "execution_count": null,
   "metadata": {},
   "outputs": [],
   "source": [
    "bins"
   ]
  },
  {
   "cell_type": "markdown",
   "metadata": {},
   "source": [
    "フィッティングの実行"
   ]
  },
  {
   "cell_type": "code",
   "execution_count": null,
   "metadata": {},
   "outputs": [],
   "source": [
    "par, cov = curve_fit(g, bins, n, p0=(200, 0.4, 1))\n",
    "print(par)"
   ]
  },
  {
   "cell_type": "code",
   "execution_count": null,
   "metadata": {},
   "outputs": [],
   "source": [
    "fig = plt.figure(figsize=(6, 4))\n",
    "y = g(bins, par[0], par[1], par[2])\n",
    "ax = fig.add_subplot(111)\n",
    "_ = ax.hist(x, bins=100, alpha=0.5)\n",
    "_ = ax.plot(bins, y, '-')\n",
    "plt.savefig('pif.png')  # グラフをpngファイルとして保存する関数。"
   ]
  }
 ],
 "metadata": {
  "kernelspec": {
   "display_name": "Python 3",
   "language": "python",
   "name": "python3"
  },
  "language_info": {
   "codemirror_mode": {
    "name": "ipython",
    "version": 3
   },
   "file_extension": ".py",
   "mimetype": "text/x-python",
   "name": "python",
   "nbconvert_exporter": "python",
   "pygments_lexer": "ipython3",
   "version": "3.8.2"
  }
 },
 "nbformat": 4,
 "nbformat_minor": 4
}

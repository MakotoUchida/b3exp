{
 "cells": [
  {
   "cell_type": "markdown",
   "metadata": {},
   "source": [
    "# ラザフォード散乱の角度分布\n",
    "ラザフォード散乱の角度分布をグラフ化する。  \n",
    "具体的に$E_{\\alpha} = 1.4, 4.1$ MeV、ターゲットがAlの場合のグラフを作成してみる。 \n",
    "ラザフォード散乱の式は次の通り\n",
    "$$\n",
    "\\frac{d\\sigma}{d\\Omega} = \\left(\\frac{zZe^2}{4E}\\right)^2\\frac{1}{\\sin^4(\\theta/2)}\n",
    "$$\n"
   ]
  },
  {
   "cell_type": "markdown",
   "metadata": {},
   "source": [
    "角度と２つエネルギーについての断面積を保持するためのベクターを用意する"
   ]
  },
  {
   "cell_type": "code",
   "execution_count": 1,
   "metadata": {
    "collapsed": true
   },
   "outputs": [],
   "source": [
    "std::vector<double> theta = {};\n",
    "std::vector<double> cs  = {};\n",
    "std::vector<double> cs2  = {};"
   ]
  },
  {
   "cell_type": "markdown",
   "metadata": {},
   "source": [
    "エネルギー、粒子の電荷などを定義しておく。"
   ]
  },
  {
   "cell_type": "code",
   "execution_count": 2,
   "metadata": {},
   "outputs": [],
   "source": [
    "const double rad2deg = 180.0/M_PI; // rad -> deg. 変換\n",
    "double E = 4.1; //エネルギー\n",
    "double E2 = 1.5; //エネルギー\n",
    "double z = 2.0; //アルファ粒子の電荷\n",
    "double Z = 13.0; //Alの電荷\n",
    "const double hbarc = 197.3; // プランク定数x高速(MeV fm)\n",
    "const double alpha = 1.0/137.0; // 微細構造定数\n",
    "const double e2 = hbarc*alpha; // 素電荷の２乗"
   ]
  },
  {
   "cell_type": "markdown",
   "metadata": {},
   "source": [
    "ループを回してそれぞれの角度に対する断面積を計算していく"
   ]
  },
  {
   "cell_type": "code",
   "execution_count": 3,
   "metadata": {},
   "outputs": [],
   "source": [
    "for(int i =1 ; i < 1000;++i){\n",
    "    double q = static_cast<double>(i)*(0.5*M_PI)/1000; // 90度まで1000点\n",
    "    double c = TMath::Power((z*Z*e2/4.0/E),2.0)*1.0/TMath::Power(TMath::Sin(0.5*q),4); //ラザフォード散乱の式\n",
    "    double c2 = TMath::Power((z*Z*e2/4.0/E2),2.0)*1.0/TMath::Power(TMath::Sin(0.5*q),4); //ラザフォード散乱の式\n",
    "    theta.push_back(q*rad2deg); // 角度をdeg. unitにして詰める\n",
    "    cs.push_back(c); //断面積を詰める\n",
    "    cs2.push_back(c2); //断面積を詰める\n",
    "}"
   ]
  },
  {
   "cell_type": "markdown",
   "metadata": {},
   "source": [
    "グラフの作成"
   ]
  },
  {
   "cell_type": "code",
   "execution_count": 4,
   "metadata": {
    "collapsed": true
   },
   "outputs": [],
   "source": [
    "auto *gr = new TGraph(theta.size(), &theta[0], &cs[0]);\n",
    "auto *gr2 = new TGraph(theta.size(), &theta[0], &cs2[0]);\n"
   ]
  },
  {
   "cell_type": "markdown",
   "metadata": {},
   "source": [
    "空のヒストグラムを作っておいてそこに２つのグラフを重ねていく"
   ]
  },
  {
   "cell_type": "code",
   "execution_count": 6,
   "metadata": {
    "collapsed": true
   },
   "outputs": [],
   "source": [
    "auto h2 = new TH2D(\"h2\",\";#theta [deg]; d#sigma/d#Omega [fm^{2}]\",100,0,90,100,10.0,1.0e8);\n",
    "auto can = new TCanvas(\"can\",\"\",600,600);\n",
    "can->SetLogy();\n",
    "h2->Draw();\n",
    "gr->SetLineColor(kMagenta);\n",
    "gr->SetLineWidth(2);\n",
    "gr->Draw(\"L\");\n",
    "gr2->Draw(\"L\");"
   ]
  },
  {
   "cell_type": "markdown",
   "metadata": {},
   "source": [
    "凡例を加えていく"
   ]
  },
  {
   "cell_type": "code",
   "execution_count": 7,
   "metadata": {
    "collapsed": true
   },
   "outputs": [],
   "source": [
    "auto leg = new TLegend(0.6, 0.68, 0.9, 0.85, \"\", \"NDC\");\n",
    "leg->AddEntry(gr, \"E = 4.1 MeV\",\"l\");\n",
    "leg->AddEntry(gr2, \"E = 1.5 MeV\",\"l\");\n",
    "leg->SetBorderSize(0);\n",
    "leg->Draw();"
   ]
  },
  {
   "cell_type": "markdown",
   "metadata": {},
   "source": [
    "描画"
   ]
  },
  {
   "cell_type": "code",
   "execution_count": 8,
   "metadata": {},
   "outputs": [
    {
     "data": {
      "image/png": "[encoded data removed]",
      "text/plain": [
       "<IPython.core.display.Image object>"
      ]
     },
     "metadata": {},
     "output_type": "display_data"
    }
   ],
   "source": [
    "gStyle->SetOptStat(0);\n",
    "can->Draw();"
   ]
  },
  {
   "cell_type": "code",
   "execution_count": null,
   "metadata": {
    "collapsed": true
   },
   "outputs": [],
   "source": []
  }
 ],
 "metadata": {
  "kernelspec": {
   "display_name": "ROOT C++",
   "language": "c++",
   "name": "root"
  },
  "language_info": {
   "codemirror_mode": "text/x-c++src",
   "file_extension": ".C",
   "mimetype": " text/x-c++src",
   "name": "c++"
  }
 },
 "nbformat": 4,
 "nbformat_minor": 2
}

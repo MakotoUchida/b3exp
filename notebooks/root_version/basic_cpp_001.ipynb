{
 "cells": [
  {
   "cell_type": "markdown",
   "metadata": {},
   "source": [
    "# C++超入門"
   ]
  },
  {
   "cell_type": "markdown",
   "metadata": {},
   "source": [
    "ROOTではC++言語を使って操作を記述する。  \n",
    "普通のC++ではコンパイル作業が必要になるがROOTはC++のインタープリターとして機能するので\n",
    "コンパイルの必要はない。  \n",
    "ROOTの端末にC++の規則に則ってコードを入力していく、もしくはソースコードを準備してROOTで実行する。  \n",
    "以下でC++でコードを書いていく上で最低限必要な項目を記述する。\n"
   ]
  },
  {
   "cell_type": "markdown",
   "metadata": {},
   "source": [
    "### 変数\n",
    "C++では型を指定して変数を宣言する  \n",
    "セミコロン(;)は一文の終了を表す。  \n",
    "初期値は与えなくても良いが、宣言時に設定することが好ましい。  \n",
    "本実験で使用するのは整数型と浮動小数点型(実数)。  \n",
    "他のデータ型については[補足](apdx_cpp_001.md)"
   ]
  },
  {
   "cell_type": "code",
   "execution_count": 1,
   "metadata": {
    "collapsed": false
   },
   "outputs": [],
   "source": [
    "int a = 1; // 整数型\n",
    "double hbarc = 197.3; // 浮動小数点型、実数型"
   ]
  },
  {
   "cell_type": "markdown",
   "metadata": {},
   "source": [
    "変数の出力は最初にstd::cout、最後にstd::endlと記述すれば良い。  \n",
    "変数の間に<<を挟むこと。\n"
   ]
  },
  {
   "cell_type": "code",
   "execution_count": 2,
   "metadata": {
    "collapsed": false
   },
   "outputs": [
    {
     "name": "stdout",
     "output_type": "stream",
     "text": [
      "a 1\n",
      "hbarc 197.3\n"
     ]
    }
   ],
   "source": [
    "std::cout << \"a \" << a << std::endl;\n",
    "std::cout << \"hbarc \" << hbarc << std::endl;"
   ]
  },
  {
   "cell_type": "markdown",
   "metadata": {},
   "source": [
    "変数は代入、四則演算などが可能。  \n",
    "詳しくは...\n"
   ]
  },
  {
   "cell_type": "code",
   "execution_count": 3,
   "metadata": {
    "collapsed": false
   },
   "outputs": [
    {
     "name": "stdout",
     "output_type": "stream",
     "text": [
      "2 2 4 0 4 1\n"
     ]
    }
   ],
   "source": [
    "int i1=2;\n",
    "int i2 = i1; //代入\n",
    "int i3 = i1+i2; //加算\n",
    "int i4 = i1-i2; //減算\n",
    "int i5  = i1*i2; //乗算\n",
    "int i6 = i1/i2; //除算\n",
    "std::cout << i1 << \" \" << i2 << \" \" << i3 << \" \" << i4 << \" \" << i5 << \" \" << i6 << std::endl;"
   ]
  },
  {
   "cell_type": "markdown",
   "metadata": {},
   "source": [
    "インクリメント/デクリメント操作 (変数+1 or -1)"
   ]
  },
  {
   "cell_type": "code",
   "execution_count": 4,
   "metadata": {
    "collapsed": false
   },
   "outputs": [
    {
     "name": "stdout",
     "output_type": "stream",
     "text": [
      "3 1\n"
     ]
    }
   ],
   "source": [
    "++i1; // インクリメント\n",
    "--i2; // デクリメント\n",
    "std::cout << i1 << \" \" << i2 << std::endl;\n",
    "\n"
   ]
  },
  {
   "cell_type": "markdown",
   "metadata": {},
   "source": [
    "### 配列\n",
    "配列とは変数の集合のこと。  \n",
    "要素のデータ型(整数、浮動小数etc...)と要素数は[]の中に指定する。"
   ]
  },
  {
   "cell_type": "code",
   "execution_count": 5,
   "metadata": {
    "collapsed": false
   },
   "outputs": [],
   "source": [
    "int ar1[10]; // 要素数１０の整数型配列\n",
    "double ar2[3] = {1.0, 2.7182, 3.14159}; // 要素数3の浮動小数点型配列,初期化をすることも可能。"
   ]
  },
  {
   "cell_type": "markdown",
   "metadata": {},
   "source": [
    "各要素には[]の中にインデックスを指定することでアクセスできる。  \n",
    "0スタートなのでi番目にアクセスしたいとすると[]内はi-1を指定しないといけないことに注意する。"
   ]
  },
  {
   "cell_type": "code",
   "execution_count": 6,
   "metadata": {
    "collapsed": false
   },
   "outputs": [
    {
     "name": "stdout",
     "output_type": "stream",
     "text": [
      "3.14159\n"
     ]
    }
   ],
   "source": [
    "std::cout << ar2[2] << std::endl; // 3番目の要素を出力"
   ]
  },
  {
   "cell_type": "markdown",
   "metadata": {},
   "source": [
    "### 繰り返し\n",
    "繰り返し操作にはfor文またはwhile文を使う。  \n",
    "for文の書式は以下の通り  \n",
    "```c++\n",
    "    for(初期条件;　繰り返しの条件; 繰り返しごとの処理){\n",
    "        コード;\n",
    "    }\n",
    "```\n",
    "初期条件には一般に繰り返しに用いる変数の初期値を設定することが多い。  \n",
    "繰り返し条件が真である限りforループが繰り返されることになる。  \n",
    "繰り返しごとの処理for分の{}内のコードが一度終わるごとに行われる処理のこと。通常は繰り返しに使う変数を1変化させることが多い。"
   ]
  },
  {
   "cell_type": "code",
   "execution_count": 7,
   "metadata": {
    "collapsed": false
   },
   "outputs": [
    {
     "name": "stdout",
     "output_type": "stream",
     "text": [
      "0\n",
      "1\n",
      "2\n",
      "3\n",
      "4\n",
      "5\n",
      "6\n",
      "7\n",
      "8\n",
      "9\n"
     ]
    }
   ],
   "source": [
    "for(int i = 0; i<10;++i) // 0 - 9までの数を1づつ増やしながら出力する\n",
    "{\n",
    "    std::cout << i << std::endl;\n",
    "}\n"
   ]
  },
  {
   "cell_type": "markdown",
   "metadata": {},
   "source": [
    "上で定義した配列の要素を表示したい場合は次のようにすれば良い\n",
    "\n"
   ]
  },
  {
   "cell_type": "code",
   "execution_count": 8,
   "metadata": {
    "collapsed": false
   },
   "outputs": [
    {
     "name": "stdout",
     "output_type": "stream",
     "text": [
      "1\n",
      "2.7182\n",
      "3.14159\n"
     ]
    }
   ],
   "source": [
    "for(int i = 0; i<3;++i)\n",
    "{\n",
    "    std::cout << ar2[i] << std::endl;\n",
    "}"
   ]
  },
  {
   "cell_type": "markdown",
   "metadata": {},
   "source": [
    "一方whie文の書式は以下の通り\n",
    "```c++\n",
    "    while(条件){\n",
    "        処理;\n",
    "    }\n",
    "```\n",
    "条件が真である限り処理が繰り返される。  \n",
    "上記のfor文での例をwhile文に置き換えると次のようになる。"
   ]
  },
  {
   "cell_type": "code",
   "execution_count": 9,
   "metadata": {
    "collapsed": false
   },
   "outputs": [
    {
     "name": "stdout",
     "output_type": "stream",
     "text": [
      "1\n",
      "2.7182\n",
      "3.14159\n"
     ]
    }
   ],
   "source": [
    "int ii = 0; //繰り返しに使うインデックス\n",
    "while(ii<3){\n",
    "    std::cout << ar2[ii] << std::endl;\n",
    "    ii++;\n",
    "}"
   ]
  },
  {
   "cell_type": "markdown",
   "metadata": {},
   "source": [
    "### 条件、制御\n",
    "\n",
    "if, elseなどを使う。\n",
    "具体的な構造は \n",
    "\n",
    "```c++\n",
    "if (条件文1) {\n",
    "  条件文1がtrueの時の処理;\n",
    "} else if(条件文2){\n",
    "  条件文2がtrueの時の処理;\n",
    "} else {\n",
    "  それ以外の時の処理;\n",
    "}\n",
    "```\n",
    "else if, elseは省略してifだけでも良い。  \n",
    "条件文では  \n",
    "```c++\n",
    "a == b // 両者が等しい\n",
    "a != b // 両者が異なる\n",
    "a >= b // aがbに等しいまたは大きい\n",
    "!a // aでない\n",
    "```\n",
    "論理和、論理積は次のよう記述する\n",
    "```c++\n",
    "(条件１) && (条件２) // 条件１かつ条件２\n",
    "(条件１) || (条件２) // 条件１または条件２\n",
    "```\n",
    "実例は以下の通り"
   ]
  },
  {
   "cell_type": "code",
   "execution_count": 10,
   "metadata": {
    "collapsed": false
   },
   "outputs": [
    {
     "name": "stdout",
     "output_type": "stream",
     "text": [
      "ar2[1] is 2.7182\n"
     ]
    }
   ],
   "source": [
    "if (ar2[1] == 2.7182){ // 配列ar2の1番目の要素が2.7182ならば\n",
    "    std::cout << \"ar2[1] is 2.7182\" << std::endl;\n",
    "} else {\n",
    "    std::cout << \"ar2[1] is not 2.7182\" << std::endl;\n",
    "}"
   ]
  },
  {
   "cell_type": "markdown",
   "metadata": {},
   "source": [
    "繰り返しの途中で条件にあった時だけ処理などの操作が行えるようになる。"
   ]
  },
  {
   "cell_type": "code",
   "execution_count": 11,
   "metadata": {
    "collapsed": false
   },
   "outputs": [
    {
     "name": "stdout",
     "output_type": "stream",
     "text": [
      "0\n",
      "1\n",
      "2\n",
      "3\n",
      "4\n",
      "5\n",
      "end of loop\n"
     ]
    }
   ],
   "source": [
    "for(int i = 0; i<10;++i) \n",
    "{\n",
    "    std::cout << i << std::endl;\n",
    "    if(i == 5){\n",
    "        break; //ループを抜ける\n",
    "    } else {\n",
    "        continue; //繰り返しを続ける\n",
    "    }\n",
    "    \n",
    "}\n",
    "std::cout << \"end of loop\" << std::endl;\n"
   ]
  },
  {
   "cell_type": "markdown",
   "metadata": {
    "collapsed": true
   },
   "source": [
    "### 関数\n",
    "頻繁に使うルーチンは関数化することでコードを簡潔にすることができる。  \n",
    "関数を定義する際には外部から関数に与える変数(引数と呼ぶ)、関数で処理して外部に戻ってくる値(戻り値)が必要となる。  \n",
    "引数と戻り値に型を設定する。\n"
   ]
  },
  {
   "cell_type": "code",
   "execution_count": 12,
   "metadata": {
    "collapsed": false
   },
   "outputs": [],
   "source": [
    "int sum(int a, int b) // 引数a,bを加算する関数\n",
    "{\n",
    "    int c = a+b;\n",
    "    return c;\n",
    "}"
   ]
  },
  {
   "cell_type": "markdown",
   "metadata": {},
   "source": [
    "実際に使うと以下の通り"
   ]
  },
  {
   "cell_type": "code",
   "execution_count": 13,
   "metadata": {
    "collapsed": false
   },
   "outputs": [
    {
     "name": "stdout",
     "output_type": "stream",
     "text": [
      "sum of a1, a2 : 3\n"
     ]
    }
   ],
   "source": [
    "int a1 = 1;\n",
    "int a2 = 2;\n",
    "int a3 = sum(a1,a2);\n",
    "std::cout << \"sum of a1, a2 : \" << a3 << std::endl;"
   ]
  },
  {
   "cell_type": "markdown",
   "metadata": {
    "collapsed": true
   },
   "source": [
    "### クラス\n",
    "変数(メンバー変数)とその変数を使った関数(メンバー関数)で構成された新しいデータ型。  \n",
    "ユーザーが独自のクラスを実装することができる。  \n",
    "まずはあまり自分で実装することを考えず、すでにライブラリで準備されているクラスを使いこなすことを目標とする方が良い。  \n",
    "具体例としてROOTではローレンツベクトル [TLorentzVector](https://root.cern.ch/doc/master/classTLorentzVector.html)が実装されている。\n",
    "以下にこのクラスを使った簡単な例を示す。"
   ]
  },
  {
   "cell_type": "markdown",
   "metadata": {},
   "source": [
    "7GeVの電子と4GeVの陽電子が正面衝突した時のローレンツ不変量を計算してみる。  \n",
    "ここで電子の質量は0.511 MeVとエネルギーに比べて小さいので無視していることに注意。"
   ]
  },
  {
   "cell_type": "code",
   "execution_count": 14,
   "metadata": {
    "collapsed": true
   },
   "outputs": [],
   "source": [
    "TLorentzVector le(7,0,0,7) ; // 電子の４元運動量　(px,py,pz,E)\n",
    "TLorentzVector lp(-4,0,0,4) ; // 陽電子の４元運動量　(px,py,pz,E)"
   ]
  },
  {
   "cell_type": "markdown",
   "metadata": {},
   "source": [
    "重心系でのローレンツ不変量を求める。  \n",
    "クラスのメンバー関数へのアクセスは以下の通り<font color=\"DeepPink\">\".\"</font>をつけてアクセスする。"
   ]
  },
  {
   "cell_type": "code",
   "execution_count": 15,
   "metadata": {
    "collapsed": false
   },
   "outputs": [
    {
     "name": "stdout",
     "output_type": "stream",
     "text": [
      "square root of s : 10.583\n"
     ]
    }
   ],
   "source": [
    "TLorentzVector lcm = le+lp; // ４元運動量のベクトル和\n",
    "double sqrt_s =  lcm.Mag(); // ４元運動量を足してローレンツ不変量を計算, Mag()というメンバー関数が用意されている。\n",
    "std::cout <<  \"square root of s : \"  << sqrt_s << std::endl;"
   ]
  },
  {
   "cell_type": "markdown",
   "metadata": {},
   "source": [
    "重心系の$\\beta, \\gamma$を求めてみる。"
   ]
  },
  {
   "cell_type": "code",
   "execution_count": 16,
   "metadata": {
    "collapsed": false
   },
   "outputs": [
    {
     "name": "stdout",
     "output_type": "stream",
     "text": [
      "beta gamma 0.283473\n"
     ]
    }
   ],
   "source": [
    "double beta = lcm.Beta(); // betaを求めるメンバー関数\n",
    "double gam = lcm.Gamma(); // gammaを求めるメンバー関数\n",
    "double betaGamma = beta*gam;\n",
    "std::cout << \"beta gamma \" << betaGamma << std::endl;"
   ]
  },
  {
   "cell_type": "markdown",
   "metadata": {
    "collapsed": true
   },
   "source": [
    "### ファイル入出力\n",
    "ファイル出力には`ofstream`を、入力には`ifsteram`を使用する。  \n",
    "まずファイルに配列`ar2`のデータを出力してみる。"
   ]
  },
  {
   "cell_type": "code",
   "execution_count": 17,
   "metadata": {
    "collapsed": false
   },
   "outputs": [],
   "source": [
    "ofstream ofs(\"cpp_sample.dat\"); // ofstreamを用意\n",
    "for(int i = 0; i<3;++i){\n",
    "    ofs << ar2[i] << std::endl;\n",
    "}\n",
    "ofs.close();"
   ]
  },
  {
   "cell_type": "markdown",
   "metadata": {},
   "source": [
    "`less`コマンドでファイルの中身を見てみると正しく書き出されている"
   ]
  },
  {
   "cell_type": "code",
   "execution_count": 18,
   "metadata": {
    "collapsed": false
   },
   "outputs": [
    {
     "name": "stdout",
     "output_type": "stream",
     "text": [
      "1\n",
      "2.7182\n",
      "3.14159\n"
     ]
    }
   ],
   "source": [
    ".!less cpp_sample.dat "
   ]
  },
  {
   "cell_type": "markdown",
   "metadata": {
    "collapsed": true
   },
   "source": [
    "次にこのファイルを`ifstream` を使って読み込んでみる。"
   ]
  },
  {
   "cell_type": "code",
   "execution_count": 19,
   "metadata": {
    "collapsed": false
   },
   "outputs": [
    {
     "name": "stdout",
     "output_type": "stream",
     "text": [
      "1\n",
      "2.7182\n",
      "3.14159\n"
     ]
    }
   ],
   "source": [
    "ifstream ifs(\"cpp_sample.dat\");\n",
    "double var;\n",
    "while (true) {\n",
    "    ifs >> var; // >>の向きに注意すること\n",
    "    if (ifs.eof()) break; // eof()はファイルの終了 (End Of File)だと1をかえす関数\n",
    "    std::cout << var << std::endl;\n",
    "}\n"
   ]
  },
  {
   "cell_type": "markdown",
   "metadata": {
    "collapsed": true
   },
   "source": [
    "### ポインター\n",
    "変数はメモリ上に配置されるため、その配置されたアドレスというものが存在する。  \n",
    "このアドレスのことをポインターと呼ぶ。  \n",
    "C++ではポインターを操作することが可能である。  \n",
    "以下はポインターの宣言例  \n",
    "```c++\n",
    "int a = 100; //通常の変数宣言\n",
    "int *b = &a; //変数aのポインター宣言\n",
    "std::cout << b << \" \" << *b << std::endl; \n",
    "```  \n",
    "b は変数aのポインターを確保している。  \n",
    "一方ポインターの宣言には通常の方の後に\\*をつける。  \n",
    "変数のポインターを得るには&をつければよい。    \n",
    "ポインター変数の値を参照したい場合には\\*をつける。\n",
    "\n",
    "配列の場合には、変数名自体がポインターとなっている。  \n",
    "つまり\n",
    "```c++\n",
    "int arr[3] = {1,2,3};\n",
    "```\n",
    "とするとarrはポインタ(&をつけなくてよい)、*arrは０番目の要素(つまり1)を表す。  \n",
    "\n",
    "ポインターが必要な理由はいろいろあるが、一例として関数に配列を渡したいときを考える。  \n",
    "値を直接渡すとすると次のようになる。\n",
    "```c++\n",
    "int sum(int a, int b, int c){ return a+b+c;}\n",
    "int arr[3] = {1,2,3};\n",
    "int s = sum(arr[0],arr[1],arr[2]);\n",
    "```\n",
    "明らかなように引数を配列要素分用意しないといけない。  \n",
    "ポインターが使えるとこの問題を解消できる。  \n",
    "```c++\n",
    "int sum(int *array, int n){\n",
    "    int s = 0;\n",
    "    for(int i = 0 ; i<n;++i){\n",
    "        s += array[i];\n",
    "    }\n",
    "    return s;\n",
    "}\n",
    "int arr[3] = {1,2,3};\n",
    "int s = sum(arr, 3);\n",
    "```\n",
    "もし配列の要素数が3でなく10000としたら後者の実装が好ましいことは自明。\n",
    "\n",
    "もう一つ覚えて置くべきことが、クラスのメンバー関数へのアクセスの仕方。  \n",
    "通常は\".\"をつけてメンバー関数へアクセスするが、ポインターで定義されている場合は\"->\"をつける。  \n"
   ]
  },
  {
   "cell_type": "code",
   "execution_count": null,
   "metadata": {
    "collapsed": true
   },
   "outputs": [],
   "source": []
  }
 ],
 "metadata": {
  "kernelspec": {
   "display_name": "ROOT C++",
   "language": "c++",
   "name": "root"
  },
  "language_info": {
   "codemirror_mode": "text/x-c++src",
   "file_extension": ".C",
   "mimetype": " text/x-c++src",
   "name": "c++"
  }
 },
 "nbformat": 4,
 "nbformat_minor": 2
}

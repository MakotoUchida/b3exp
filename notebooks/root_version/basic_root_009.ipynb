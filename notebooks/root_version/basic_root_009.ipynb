{
 "cells": [
  {
   "cell_type": "markdown",
   "metadata": {},
   "source": [
    "# Geiger-Nuttallのプロット\n",
    "教科書に掲載されているテーブルからGeiger-Nuttallのプロットを作成する。  \n",
    "事前にテーブルをテキストファイルとして作成する必要がある。  \n",
    "以下の例ではそれぞれのデータをgroup1.dat, group2.dat, group3,datとしている。  \n",
    "各データファイルのフォーマットは以下のように取り決める。    \n",
    "\n",
    "```\n",
    "原子番号と放出エネルギーの-1/2乗の積  崩壊確率の対数\n",
    "```\n",
    "\n",
    "各データファイルからグラフを作成  \n"
   ]
  },
  {
   "cell_type": "code",
   "execution_count": 2,
   "metadata": {
    "collapsed": false
   },
   "outputs": [],
   "source": [
    "auto gr1 = gnMakeGraph(\"group1.dat\");\n",
    "auto gr2 = gnMakeGraph(\"group2.dat\");\n",
    "auto gr3 = gnMakeGraph(\"group3.dat\");"
   ]
  },
  {
   "cell_type": "markdown",
   "metadata": {},
   "source": [
    "キャンパスと全体のレイアウトを決めるからのヒストグラムを作成しておく。"
   ]
  },
  {
   "cell_type": "code",
   "execution_count": 3,
   "metadata": {
    "collapsed": true
   },
   "outputs": [],
   "source": [
    "auto c = new TCanvas();\n",
    "auto h = new TH2D(\"h\",\"Geiger-Nuttall relation;ZE^{-1/2};log#lambda\",200,30,50,160,-80,20);"
   ]
  },
  {
   "cell_type": "markdown",
   "metadata": {},
   "source": [
    "カラーの設定"
   ]
  },
  {
   "cell_type": "code",
   "execution_count": 4,
   "metadata": {
    "collapsed": true
   },
   "outputs": [],
   "source": [
    "gr1->SetFillColor(2);\n",
    "gr2->SetFillColor(3);\n",
    "gr3->SetFillColor(4);\n",
    "gr1->SetMarkerColor(2);\n",
    "gr2->SetMarkerColor(3);\n",
    "gr3->SetMarkerColor(4);"
   ]
  },
  {
   "cell_type": "markdown",
   "metadata": {},
   "source": [
    "フィットする前の状態"
   ]
  },
  {
   "cell_type": "code",
   "execution_count": null,
   "metadata": {
    "collapsed": false,
    "scrolled": true
   },
   "outputs": [],
   "source": [
    "h->Draw();\n",
    "gr1->Draw(\"P\");\n",
    "gr2->Draw(\"P\");\n",
    "gr3->Draw(\"P\");\n",
    "c->Draw()"
   ]
  },
  {
   "cell_type": "markdown",
   "metadata": {},
   "source": [
    "group1のデータを直線でフィットする。  \n",
    "あらかじめline()という関数を準備しておいた。  \n",
    "次のようにして\"l1\"という直線を作成する。"
   ]
  },
  {
   "cell_type": "code",
   "execution_count": 6,
   "metadata": {
    "collapsed": false
   },
   "outputs": [],
   "source": [
    "auto l1 = line(\"l1\");"
   ]
  },
  {
   "cell_type": "markdown",
   "metadata": {},
   "source": [
    "グラフ１をl1でフィットする。"
   ]
  },
  {
   "cell_type": "code",
   "execution_count": 7,
   "metadata": {
    "collapsed": false
   },
   "outputs": [
    {
     "name": "stdout",
     "output_type": "stream",
     "text": [
      "\n",
      "****************************************\n",
      "Minimizer is Minuit / Migrad\n",
      "Chi2                      =     0.661516\n",
      "NDf                       =            4\n",
      "Edm                       =  2.82132e-19\n",
      "NCalls                    =           38\n",
      "p0                        =      134.688   +/-   2.51509     \n",
      "p1                        =     -3.89777   +/-   0.066776    \n"
     ]
    }
   ],
   "source": [
    "gr1->Fit(l1,\"0\");"
   ]
  },
  {
   "cell_type": "markdown",
   "metadata": {},
   "source": [
    "同様にしてgr2,gr3も直線フィットする。  \n",
    "group2,3はデータが少ないためスロープはl1の結果を用いることにする。  \n",
    "以下のようにl1の結果を代入してl2,l3を定義する。"
   ]
  },
  {
   "cell_type": "code",
   "execution_count": 8,
   "metadata": {
    "collapsed": true
   },
   "outputs": [],
   "source": [
    "auto l2 = line(\"l2\", -3.89777);\n",
    "auto l3 = line(\"l3\", -3.89777);"
   ]
  },
  {
   "cell_type": "markdown",
   "metadata": {},
   "source": [
    "gr2, gr3を直線フィット  \n",
    "出力からスロープパラメータは固定(fix)されているのがわかる。"
   ]
  },
  {
   "cell_type": "code",
   "execution_count": 10,
   "metadata": {
    "collapsed": false
   },
   "outputs": [
    {
     "name": "stdout",
     "output_type": "stream",
     "text": [
      "\n",
      "****************************************\n",
      "Minimizer is Minuit / Migrad\n",
      "Chi2                      =      1.05637\n",
      "NDf                       =            2\n",
      "Edm                       =  1.25704e-26\n",
      "NCalls                    =           13\n",
      "p0                        =      125.965   +/-   0.419596    \n",
      "p1                        =     -3.89777                      \t (fixed)\n",
      "\n",
      "****************************************\n",
      "Minimizer is Minuit / Migrad\n",
      "Chi2                      =      1.52472\n",
      "NDf                       =            2\n",
      "Edm                       =  2.55963e-25\n",
      "NCalls                    =           13\n",
      "p0                        =      118.954   +/-   0.504104    \n",
      "p1                        =     -3.89777                      \t (fixed)\n"
     ]
    }
   ],
   "source": [
    "gr2->Fit(l2,\"0\");\n",
    "gr3->Fit(l3,\"0\");"
   ]
  },
  {
   "cell_type": "markdown",
   "metadata": {},
   "source": [
    "最終結果を表示する。"
   ]
  },
  {
   "cell_type": "code",
   "execution_count": null,
   "metadata": {
    "collapsed": false,
    "scrolled": true
   },
   "outputs": [],
   "source": [
    "h->Draw();\n",
    "gr1->Draw(\"P\");\n",
    "gr2->Draw(\"P\");\n",
    "gr3->Draw(\"P\");\n",
    "l1->SetLineColor(2);\n",
    "l1->Draw(\"same\");\n",
    "l2->SetLineColor(3);\n",
    "l2->Draw(\"same\");\n",
    "l3->SetLineColor(4);\n",
    "l3->Draw(\"same\");\n",
    "c->Draw()"
   ]
  },
  {
   "cell_type": "markdown",
   "metadata": {},
   "source": [
    "定数項が知りたいのでフィットした直線のパラメータをとってくる。"
   ]
  },
  {
   "cell_type": "code",
   "execution_count": 13,
   "metadata": {
    "collapsed": false
   },
   "outputs": [
    {
     "name": "stdout",
     "output_type": "stream",
     "text": [
      "C1 134.688\n",
      "C2 125.965\n",
      "C3 118.954\n"
     ]
    }
   ],
   "source": [
    "std::cout << \"C1 \" << l1->GetParameter(0) << std::endl;\n",
    "std::cout << \"C2 \" << l2->GetParameter(0) << std::endl;\n",
    "std::cout << \"C3 \" << l3->GetParameter(0) << std::endl;"
   ]
  },
  {
   "cell_type": "code",
   "execution_count": null,
   "metadata": {
    "collapsed": true
   },
   "outputs": [],
   "source": []
  }
 ],
 "metadata": {
  "kernelspec": {
   "display_name": "ROOT C++",
   "language": "c++",
   "name": "root"
  },
  "language_info": {
   "codemirror_mode": "text/x-c++src",
   "file_extension": ".C",
   "mimetype": " text/x-c++src",
   "name": "c++"
  }
 },
 "nbformat": 4,
 "nbformat_minor": 2
}
